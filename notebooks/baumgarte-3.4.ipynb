{
 "cells": [
  {
   "cell_type": "code",
   "execution_count": 1,
   "metadata": {},
   "outputs": [],
   "source": [
    "from sympy import *\n",
    "init_printing(use_unicode=True)"
   ]
  },
  {
   "cell_type": "code",
   "execution_count": 3,
   "metadata": {},
   "outputs": [],
   "source": [
    "M, r = symbols('{\\cal{M}}, r')"
   ]
  },
  {
   "cell_type": "code",
   "execution_count": 5,
   "metadata": {},
   "outputs": [],
   "source": [
    "R = (1 + M / (2 * r)) ** 2 * r"
   ]
  },
  {
   "cell_type": "code",
   "execution_count": 6,
   "metadata": {},
   "outputs": [
    {
     "data": {
      "image/png": "[encoded data removed]",
      "text/latex": [
       "$\\displaystyle 0$"
      ],
      "text/plain": [
       "0"
      ]
     },
     "execution_count": 6,
     "metadata": {},
     "output_type": "execute_result"
    }
   ],
   "source": [
    "R**2 - (1 + M / (2 * r)) ** 4 * r ** 2"
   ]
  },
  {
   "cell_type": "code",
   "execution_count": 10,
   "metadata": {},
   "outputs": [
    {
     "data": {
      "image/png": "[encoded data removed]",
      "text/latex": [
       "$\\displaystyle \\frac{\\left(2 r + {\\cal{M}}\\right)^{2} \\left(- r \\left(2 r - {\\cal{M}}\\right)^{2} + \\left(r - 2 {\\cal{M}}\\right) \\left(2 r + {\\cal{M}}\\right)^{2}\\right)}{16 r^{4} \\left(r - 2 {\\cal{M}}\\right)}$"
      ],
      "text/plain": [
       "                 2 ⎛                     2                                    \n",
       "(2⋅r + {\\cal{M}}) ⋅⎝- r⋅(2⋅r - {\\cal{M}})  + (r - 2⋅{\\cal{M}})⋅(2⋅r + {\\cal{M}\n",
       "──────────────────────────────────────────────────────────────────────────────\n",
       "                                 4                                            \n",
       "                             16⋅r ⋅(r - 2⋅{\\cal{M}})                          \n",
       "\n",
       "  2⎞\n",
       "}) ⎠\n",
       "────\n",
       "    \n",
       "    "
      ]
     },
     "execution_count": 10,
     "metadata": {},
     "output_type": "execute_result"
    }
   ],
   "source": [
    "((1 + M / (2 * r)) ** 4 - diff(R, r) ** 2 * (1 - 2 * M / r ) ** (-1)).simplify()"
   ]
  },
  {
   "cell_type": "code",
   "execution_count": null,
   "metadata": {},
   "outputs": [],
   "source": []
  }
 ],
 "metadata": {
  "kernelspec": {
   "display_name": "Python 3",
   "language": "python",
   "name": "python3"
  },
  "language_info": {
   "codemirror_mode": {
    "name": "ipython",
    "version": 3
   },
   "file_extension": ".py",
   "mimetype": "text/x-python",
   "name": "python",
   "nbconvert_exporter": "python",
   "pygments_lexer": "ipython3",
   "version": "3.7.7"
  }
 },
 "nbformat": 4,
 "nbformat_minor": 4
}
