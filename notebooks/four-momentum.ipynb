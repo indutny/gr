{
 "cells": [
  {
   "cell_type": "code",
   "execution_count": 80,
   "metadata": {},
   "outputs": [],
   "source": [
    "from sympy import *\n",
    "init_printing(use_unicode=True)"
   ]
  },
  {
   "cell_type": "code",
   "execution_count": 81,
   "metadata": {},
   "outputs": [],
   "source": [
    "v1, v2, v1p, v2p, m1, m2, om1, om2, vb = symbols(\n",
    "    'v_1, v_2, {v\\'}_1, {v\\'}_2, m_1, m_2, \\\\overline{m}_1, \\\\overline{m}_2, v_b')"
   ]
  },
  {
   "cell_type": "code",
   "execution_count": 82,
   "metadata": {},
   "outputs": [
    {
     "data": {
      "image/png": "[encoded data removed]",
      "text/latex": [
       "$\\displaystyle m_{1} v_{1} + m_{2} v_{2} = m_{1} {v'}_1 + m_{2} {v'}_2$"
      ],
      "text/plain": [
       "m₁⋅v₁ + m₂⋅v₂ = m₁⋅{v'}₁ + m₂⋅{v'}₂"
      ]
     },
     "execution_count": 82,
     "metadata": {},
     "output_type": "execute_result"
    }
   ],
   "source": [
    "eq1 = Eq(m1 * v1 + m2 * v2, m1 * v1p + m2 * v2p)\n",
    "eq1"
   ]
  },
  {
   "cell_type": "code",
   "execution_count": 83,
   "metadata": {},
   "outputs": [
    {
     "data": {
      "image/png": "[encoded data removed]",
      "text/latex": [
       "$\\displaystyle \\frac{m_{1} v_{1}^{2}}{2} + \\frac{m_{2} v_{2}^{2}}{2} = \\frac{m_{1} {v'}_1^{2}}{2} + \\frac{m_{2} {v'}_2^{2}}{2}$"
      ],
      "text/plain": [
       "     2        2           2           2\n",
       "m₁⋅v₁    m₂⋅v₂    m₁⋅{v'}₁    m₂⋅{v'}₂ \n",
       "────── + ────── = ───────── + ─────────\n",
       "  2        2          2           2    "
      ]
     },
     "execution_count": 83,
     "metadata": {},
     "output_type": "execute_result"
    }
   ],
   "source": [
    "eq2 = Eq((m1 * v1 ** 2 + m2 * v2 ** 2) / 2, (m1 * v1p ** 2 + m2 * v2p ** 2) / 2)\n",
    "eq2"
   ]
  },
  {
   "cell_type": "code",
   "execution_count": 99,
   "metadata": {},
   "outputs": [
    {
     "data": {
      "image/png": "[encoded data removed]",
      "text/latex": [
       "$\\displaystyle \\left( \\frac{m_{1} v_{1} - m_{2} v_{1} + 2 m_{2} v_{2}}{m_{1} + m_{2}}, \\  \\frac{2 m_{1} v_{1} - m_{1} v_{2} + m_{2} v_{2}}{m_{1} + m_{2}}\\right)$"
      ],
      "text/plain": [
       "⎛m₁⋅v₁ - m₂⋅v₁ + 2⋅m₂⋅v₂  2⋅m₁⋅v₁ - m₁⋅v₂ + m₂⋅v₂⎞\n",
       "⎜───────────────────────, ───────────────────────⎟\n",
       "⎝        m₁ + m₂                  m₁ + m₂        ⎠"
      ]
     },
     "execution_count": 99,
     "metadata": {},
     "output_type": "execute_result"
    }
   ],
   "source": [
    "v1ps, v2ps = solve([ eq1, eq2 ], [ v1p, v2p ])[1]\n",
    "v1ps = v1ps.simplify()\n",
    "v2ps = v2ps.simplify()\n",
    "v1ps, v2ps"
   ]
  },
  {
   "cell_type": "code",
   "execution_count": 100,
   "metadata": {},
   "outputs": [
    {
     "data": {
      "image/png": "[encoded data removed]",
      "text/latex": [
       "$\\displaystyle \\left( \\frac{v_{1} + v_{b}}{v_{1} v_{b} + 1}, \\  \\frac{v_{2} + v_{b}}{v_{2} v_{b} + 1}\\right)$"
      ],
      "text/plain": [
       "⎛ v₁ + v_b    v₂ + v_b ⎞\n",
       "⎜──────────, ──────────⎟\n",
       "⎝v₁⋅v_b + 1  v₂⋅v_b + 1⎠"
      ]
     },
     "execution_count": 100,
     "metadata": {},
     "output_type": "execute_result"
    }
   ],
   "source": [
    "bv1 = (v1 + vb) / (1 + v1 * vb)\n",
    "bv2 = (v2 + vb) / (1 + v2 * vb)\n",
    "bv1, bv2"
   ]
  },
  {
   "cell_type": "code",
   "execution_count": 101,
   "metadata": {},
   "outputs": [
    {
     "data": {
      "image/png": "[encoded data removed]",
      "text/latex": [
       "$\\displaystyle \\frac{2 \\overline{m}_2 \\left(v_{2} + v_{b}\\right) \\left(v_{1} v_{b} + 1\\right) + \\left(\\overline{m}_1 - \\overline{m}_2\\right) \\left(v_{1} + v_{b}\\right) \\left(v_{2} v_{b} + 1\\right)}{\\left(\\overline{m}_1 + \\overline{m}_2\\right) \\left(v_{1} v_{b} + 1\\right) \\left(v_{2} v_{b} + 1\\right)}$"
      ],
      "text/plain": [
       "2⋅\\overline{m}₂⋅(v₂ + v_b)⋅(v₁⋅v_b + 1) + (\\overline{m}₁ - \\overline{m}₂)⋅(v₁ \n",
       "──────────────────────────────────────────────────────────────────────────────\n",
       "                    (\\overline{m}₁ + \\overline{m}₂)⋅(v₁⋅v_b + 1)⋅(v₂⋅v_b + 1) \n",
       "\n",
       "+ v_b)⋅(v₂⋅v_b + 1)\n",
       "───────────────────\n",
       "                   "
      ]
     },
     "execution_count": 101,
     "metadata": {},
     "output_type": "execute_result"
    }
   ],
   "source": [
    "bv1p = v1ps.subs({ v1: bv1, v2: bv2, m1: om1, m2: om2 }).simplify()\n",
    "bv1p"
   ]
  },
  {
   "cell_type": "code",
   "execution_count": 102,
   "metadata": {},
   "outputs": [
    {
     "data": {
      "image/png": "[encoded data removed]",
      "text/latex": [
       "$\\displaystyle \\frac{2 \\overline{m}_1 \\left(v_{1} + v_{b}\\right) \\left(v_{2} v_{b} + 1\\right) + \\left(- \\overline{m}_1 + \\overline{m}_2\\right) \\left(v_{2} + v_{b}\\right) \\left(v_{1} v_{b} + 1\\right)}{\\left(\\overline{m}_1 + \\overline{m}_2\\right) \\left(v_{1} v_{b} + 1\\right) \\left(v_{2} v_{b} + 1\\right)}$"
      ],
      "text/plain": [
       "2⋅\\overline{m}₁⋅(v₁ + v_b)⋅(v₂⋅v_b + 1) + (-\\overline{m}₁ + \\overline{m}₂)⋅(v₂\n",
       "──────────────────────────────────────────────────────────────────────────────\n",
       "                    (\\overline{m}₁ + \\overline{m}₂)⋅(v₁⋅v_b + 1)⋅(v₂⋅v_b + 1) \n",
       "\n",
       " + v_b)⋅(v₁⋅v_b + 1)\n",
       "────────────────────\n",
       "                    "
      ]
     },
     "execution_count": 102,
     "metadata": {},
     "output_type": "execute_result"
    }
   ],
   "source": [
    "bv2p = v2ps.subs({ v1: bv1, v2: bv2, m1: om1, m2: om2 }).simplify()\n",
    "bv2p"
   ]
  },
  {
   "cell_type": "code",
   "execution_count": 137,
   "metadata": {},
   "outputs": [
    {
     "data": {
      "image/png": "[encoded data removed]",
      "text/latex": [
       "$\\displaystyle \\frac{\\left(\\overline{m}_1 + \\overline{m}_2\\right) \\left(v_{1} v_{b} + 1\\right) \\left(v_{2} v_{b} + 1\\right) \\left(- m_{1} v_{1} + m_{2} v_{1} - 2 m_{2} v_{2} - v_{b} \\left(m_{1} + m_{2}\\right)\\right) + \\left(2 \\overline{m}_2 \\left(v_{2} + v_{b}\\right) \\left(v_{1} v_{b} + 1\\right) + \\left(\\overline{m}_1 - \\overline{m}_2\\right) \\left(v_{1} + v_{b}\\right) \\left(v_{2} v_{b} + 1\\right)\\right) \\left(m_{1} + m_{2} + v_{b} \\left(m_{1} v_{1} - m_{2} v_{1} + 2 m_{2} v_{2}\\right)\\right)}{\\left(\\overline{m}_1 + \\overline{m}_2\\right) \\left(v_{1} v_{b} + 1\\right) \\left(v_{2} v_{b} + 1\\right) \\left(m_{1} + m_{2} + v_{b} \\left(m_{1} v_{1} - m_{2} v_{1} + 2 m_{2} v_{2}\\right)\\right)}$"
      ],
      "text/plain": [
       "(\\overline{m}₁ + \\overline{m}₂)⋅(v₁⋅v_b + 1)⋅(v₂⋅v_b + 1)⋅(-m₁⋅v₁ + m₂⋅v₁ - 2⋅\n",
       "──────────────────────────────────────────────────────────────────────────────\n",
       "                                                                        (\\over\n",
       "\n",
       "m₂⋅v₂ - v_b⋅(m₁ + m₂)) + (2⋅\\overline{m}₂⋅(v₂ + v_b)⋅(v₁⋅v_b + 1) + (\\overline\n",
       "──────────────────────────────────────────────────────────────────────────────\n",
       "line{m}₁ + \\overline{m}₂)⋅(v₁⋅v_b + 1)⋅(v₂⋅v_b + 1)⋅(m₁ + m₂ + v_b⋅(m₁⋅v₁ - m₂\n",
       "\n",
       "{m}₁ - \\overline{m}₂)⋅(v₁ + v_b)⋅(v₂⋅v_b + 1))⋅(m₁ + m₂ + v_b⋅(m₁⋅v₁ - m₂⋅v₁ +\n",
       "──────────────────────────────────────────────────────────────────────────────\n",
       "⋅v₁ + 2⋅m₂⋅v₂))                                                               \n",
       "\n",
       " 2⋅m₂⋅v₂))\n",
       "──────────\n",
       "          "
      ]
     },
     "execution_count": 137,
     "metadata": {},
     "output_type": "execute_result"
    }
   ],
   "source": [
    "eq3 = (bv1p - (v1ps + vb) / (1 + vb * v1ps)).simplify()\n",
    "eq3"
   ]
  },
  {
   "cell_type": "code",
   "execution_count": 138,
   "metadata": {},
   "outputs": [
    {
     "data": {
      "image/png": "[encoded data removed]",
      "text/latex": [
       "$\\displaystyle - \\frac{\\left(m_{1} + m_{2}\\right) \\left(v_{b} + \\frac{2 m_{1} v_{1} - m_{1} v_{2} + m_{2} v_{2}}{m_{1} + m_{2}}\\right)}{m_{1} + m_{2} + v_{b} \\left(2 m_{1} v_{1} - m_{1} v_{2} + m_{2} v_{2}\\right)} + \\frac{2 \\overline{m}_1 \\left(v_{1} + v_{b}\\right) \\left(v_{2} v_{b} + 1\\right) - \\left(\\overline{m}_1 - \\overline{m}_2\\right) \\left(v_{2} + v_{b}\\right) \\left(v_{1} v_{b} + 1\\right)}{\\left(\\overline{m}_1 + \\overline{m}_2\\right) \\left(v_{1} v_{b} + 1\\right) \\left(v_{2} v_{b} + 1\\right)}$"
      ],
      "text/plain": [
       "            ⎛      2⋅m₁⋅v₁ - m₁⋅v₂ + m₂⋅v₂⎞                                   \n",
       "  (m₁ + m₂)⋅⎜v_b + ───────────────────────⎟                                   \n",
       "            ⎝              m₁ + m₂        ⎠   2⋅\\overline{m}₁⋅(v₁ + v_b)⋅(v₂⋅v\n",
       "- ───────────────────────────────────────── + ────────────────────────────────\n",
       "   m₁ + m₂ + v_b⋅(2⋅m₁⋅v₁ - m₁⋅v₂ + m₂⋅v₂)                        (\\overline{m\n",
       "\n",
       "                                                                 \n",
       "                                                                 \n",
       "_b + 1) - (\\overline{m}₁ - \\overline{m}₂)⋅(v₂ + v_b)⋅(v₁⋅v_b + 1)\n",
       "─────────────────────────────────────────────────────────────────\n",
       "}₁ + \\overline{m}₂)⋅(v₁⋅v_b + 1)⋅(v₂⋅v_b + 1)                    "
      ]
     },
     "execution_count": 138,
     "metadata": {},
     "output_type": "execute_result"
    }
   ],
   "source": [
    "eq4 = bv2p.simplify() - (v2ps + vb) / (1 + vb * v2ps).simplify()\n",
    "eq4"
   ]
  },
  {
   "cell_type": "code",
   "execution_count": 141,
   "metadata": {},
   "outputs": [
    {
     "data": {
      "image/png": "[encoded data removed]",
      "text/latex": [
       "$\\displaystyle \\left[ \\right]$"
      ],
      "text/plain": [
       "[]"
      ]
     },
     "execution_count": 141,
     "metadata": {},
     "output_type": "execute_result"
    }
   ],
   "source": [
    "solve([ eq3, eq4 ], [ om1, om2 ])"
   ]
  },
  {
   "cell_type": "code",
   "execution_count": null,
   "metadata": {},
   "outputs": [],
   "source": [
    "gamma1 = sqrt(1 - v1 ** 2) / sqrt(1 - bv1 ** 2).simplify()\n",
    "gamma1"
   ]
  },
  {
   "cell_type": "code",
   "execution_count": 144,
   "metadata": {},
   "outputs": [
    {
     "data": {
      "image/png": "[encoded data removed]",
      "text/latex": [
       "$\\displaystyle \\frac{2 m_{2} \\left(v_{2} + v_{b}\\right) \\left(v_{1} v_{b} + 1\\right) + \\left(m_{1} - m_{2}\\right) \\left(v_{1} + v_{b}\\right) \\left(v_{2} v_{b} + 1\\right)}{\\left(m_{1} + m_{2}\\right) \\left(v_{1} v_{b} + 1\\right) \\left(v_{2} v_{b} + 1\\right)}$"
      ],
      "text/plain": [
       "2⋅m₂⋅(v₂ + v_b)⋅(v₁⋅v_b + 1) + (m₁ - m₂)⋅(v₁ + v_b)⋅(v₂⋅v_b + 1)\n",
       "────────────────────────────────────────────────────────────────\n",
       "              (m₁ + m₂)⋅(v₁⋅v_b + 1)⋅(v₂⋅v_b + 1)               "
      ]
     },
     "execution_count": 144,
     "metadata": {},
     "output_type": "execute_result"
    }
   ],
   "source": [
    "bv1p.subs({ om1: m1 * gamma, om2: m2 * gamma }).simplify()"
   ]
  },
  {
   "cell_type": "code",
   "execution_count": null,
   "metadata": {},
   "outputs": [],
   "source": []
  }
 ],
 "metadata": {
  "kernelspec": {
   "display_name": "Python 3",
   "language": "python",
   "name": "python3"
  },
  "language_info": {
   "codemirror_mode": {
    "name": "ipython",
    "version": 3
   },
   "file_extension": ".py",
   "mimetype": "text/x-python",
   "name": "python",
   "nbconvert_exporter": "python",
   "pygments_lexer": "ipython3",
   "version": "3.7.7"
  }
 },
 "nbformat": 4,
 "nbformat_minor": 4
}
