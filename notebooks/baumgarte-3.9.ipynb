{
 "cells": [
  {
   "cell_type": "code",
   "execution_count": 2,
   "metadata": {},
   "outputs": [],
   "source": [
    "from sympy import *\n",
    "init_printing(use_unicode=True)"
   ]
  },
  {
   "cell_type": "code",
   "execution_count": 3,
   "metadata": {},
   "outputs": [],
   "source": [
    "r, theta, phi = symbols('r, \\\\theta, \\phi')\n",
    "M = symbols('M')\n",
    "psi = Function(Symbol('\\psi', real=True))\n",
    "coords = [ r, theta, phi ]"
   ]
  },
  {
   "cell_type": "code",
   "execution_count": 4,
   "metadata": {},
   "outputs": [],
   "source": [
    "metric = Matrix([\n",
    "    [ 1, 0, 0 ],\n",
    "    [ 0, r ** 2, 0 ],\n",
    "    [ 0, 0, r ** 2 * sin(theta)]\n",
    "])"
   ]
  },
  {
   "cell_type": "code",
   "execution_count": 5,
   "metadata": {},
   "outputs": [
    {
     "data": {
      "image/png": "[encoded data removed]",
      "text/latex": [
       "$\\displaystyle \\left[\\begin{matrix}1 & 0 & 0\\\\0 & r^{2} & 0\\\\0 & 0 & r^{2} \\sin{\\left(\\theta \\right)}\\end{matrix}\\right]$"
      ],
      "text/plain": [
       "⎡1  0         0       ⎤\n",
       "⎢                     ⎥\n",
       "⎢    2                ⎥\n",
       "⎢0  r         0       ⎥\n",
       "⎢                     ⎥\n",
       "⎢        2            ⎥\n",
       "⎣0  0   r ⋅sin(\\theta)⎦"
      ]
     },
     "execution_count": 5,
     "metadata": {},
     "output_type": "execute_result"
    }
   ],
   "source": [
    "metric"
   ]
  },
  {
   "cell_type": "code",
   "execution_count": 33,
   "metadata": {},
   "outputs": [
    {
     "data": {
      "image/png": "[encoded data removed]",
      "text/latex": [
       "$\\displaystyle \\left[\\begin{matrix}1 & 0 & 0\\\\0 & \\frac{1}{r^{2}} & 0\\\\0 & 0 & \\frac{1}{r^{2} \\sin{\\left(\\theta \\right)}}\\end{matrix}\\right]$"
      ],
      "text/plain": [
       "⎡1  0         0       ⎤\n",
       "⎢                     ⎥\n",
       "⎢   1                 ⎥\n",
       "⎢0  ──        0       ⎥\n",
       "⎢    2                ⎥\n",
       "⎢   r                 ⎥\n",
       "⎢                     ⎥\n",
       "⎢             1       ⎥\n",
       "⎢0  0   ──────────────⎥\n",
       "⎢        2            ⎥\n",
       "⎣       r ⋅sin(\\theta)⎦"
      ]
     },
     "execution_count": 33,
     "metadata": {},
     "output_type": "execute_result"
    }
   ],
   "source": [
    "inv_metric = metric.inv()\n",
    "inv_metric"
   ]
  },
  {
   "cell_type": "code",
   "execution_count": 6,
   "metadata": {},
   "outputs": [],
   "source": [
    "def compute_christoffel(metric):\n",
    "    if metric.shape != (3, 3):\n",
    "        raise Exception(\"Invalid dimensions\")\n",
    "\n",
    "    inv_metric = metric.inv()\n",
    "    \n",
    "    out = []\n",
    "    for i in range(0, 3):\n",
    "        rows = []\n",
    "        for j in range(0, 3):\n",
    "            row = []\n",
    "            for k in range(0, 3):\n",
    "                res = 0.0\n",
    "                for l in range(0, 3):\n",
    "                    res += inv_metric[i, l] * (\n",
    "                        Derivative(metric[l, j], coords[k]) +\n",
    "                        Derivative(metric[l, k], coords[j]) -\n",
    "                        Derivative(metric[j, k], coords[l]))\n",
    "                row.append(res / 2)\n",
    "            rows.append(row)\n",
    "        out.append(Matrix(rows).applyfunc(simplify))\n",
    "    return out"
   ]
  },
  {
   "cell_type": "code",
   "execution_count": 8,
   "metadata": {},
   "outputs": [],
   "source": [
    "def compute_ricci(christoffel):\n",
    "    if len(christoffel) != 3 or christoffel[0].shape != (3, 3):\n",
    "        raise Exception(\"Invalid dimensions\")\n",
    "    rows = []\n",
    "    for i in range(0, 3):\n",
    "        row = []\n",
    "        for j in range(0, 3):\n",
    "            res = 0.0\n",
    "            for k in range(0, 3):\n",
    "                res += Derivative(christoffel[k][i, j], coords[k])\n",
    "                res -= Derivative(christoffel[k][k, j], coords[i])\n",
    "                for l in range(0, 3):\n",
    "                    res += christoffel[k][i, j] * christoffel[l][k, l]\n",
    "                    res -= christoffel[k][i, l] * christoffel[l][j, k]\n",
    "            row.append(res)\n",
    "        rows.append(row)\n",
    "    return Matrix(rows).applyfunc(simplify) "
   ]
  },
  {
   "cell_type": "code",
   "execution_count": 9,
   "metadata": {},
   "outputs": [],
   "source": [
    "christoffel = compute_christoffel(metric)"
   ]
  },
  {
   "cell_type": "code",
   "execution_count": 11,
   "metadata": {},
   "outputs": [
    {
     "data": {
      "image/png": "[encoded data removed]",
      "text/latex": [
       "$\\displaystyle \\left[ \\left[\\begin{matrix}0 & 0 & 0\\\\0 & - r & 0\\\\0 & 0 & - r \\sin{\\left(\\theta \\right)}\\end{matrix}\\right], \\  \\left[\\begin{matrix}0 & \\frac{1}{r} & 0\\\\\\frac{1}{r} & 0 & 0\\\\0 & 0 & - \\frac{\\cos{\\left(\\theta \\right)}}{2}\\end{matrix}\\right], \\  \\left[\\begin{matrix}0 & 0 & \\frac{1}{r}\\\\0 & 0 & \\frac{\\cos{\\left(\\theta \\right)}}{2 \\sin{\\left(\\theta \\right)}}\\\\\\frac{1}{r} & \\frac{\\cos{\\left(\\theta \\right)}}{2 \\sin{\\left(\\theta \\right)}} & 0\\end{matrix}\\right]\\right]$"
      ],
      "text/plain": [
       "⎡                         ⎡   1               ⎤  ⎡                        1   \n",
       "⎢                         ⎢0  ─        0      ⎥  ⎢0        0              ─   \n",
       "⎢                         ⎢   r               ⎥  ⎢                        r   \n",
       "⎢⎡0  0         0       ⎤  ⎢                   ⎥  ⎢                            \n",
       "⎢⎢                     ⎥  ⎢1                  ⎥  ⎢                   cos(\\thet\n",
       "⎢⎢0  -r        0       ⎥, ⎢─  0        0      ⎥, ⎢0        0        ──────────\n",
       "⎢⎢                     ⎥  ⎢r                  ⎥  ⎢                  2⋅sin(\\the\n",
       "⎢⎣0  0   -r⋅sin(\\theta)⎦  ⎢                   ⎥  ⎢                            \n",
       "⎢                         ⎢      -cos(\\theta) ⎥  ⎢1   cos(\\theta)             \n",
       "⎢                         ⎢0  0  ─────────────⎥  ⎢─  ─────────────        0   \n",
       "⎣                         ⎣            2      ⎦  ⎣r  2⋅sin(\\theta)            \n",
       "\n",
       "   ⎤⎤\n",
       "   ⎥⎥\n",
       "   ⎥⎥\n",
       "   ⎥⎥\n",
       "a) ⎥⎥\n",
       "───⎥⎥\n",
       "ta)⎥⎥\n",
       "   ⎥⎥\n",
       "   ⎥⎥\n",
       "   ⎥⎥\n",
       "   ⎦⎦"
      ]
     },
     "execution_count": 11,
     "metadata": {},
     "output_type": "execute_result"
    }
   ],
   "source": [
    "christoffel"
   ]
  },
  {
   "cell_type": "code",
   "execution_count": 29,
   "metadata": {},
   "outputs": [],
   "source": [
    "# Compute covariant derivative of rank-0 tensor\n",
    "def compute_diff_scalar(s, christoffel):\n",
    "    if len(christoffel) != 3:\n",
    "        raise Exception('Invalid dimensions')\n",
    "\n",
    "    return Matrix([ diff(s, x) for x in coords ]).applyfunc(simplify)\n",
    "\n",
    "# Compute covariant derivative of rank-1 covariant tensor\n",
    "def compute_diff_vec_lo(t, christoffel):\n",
    "    if len(t) != 3 or len(christoffel) != 3:\n",
    "        raise Exception('Invalid dimensions')\n",
    "\n",
    "    rows = []\n",
    "    for i in range(0, 3):\n",
    "        row = []\n",
    "        for j in range(0, 3):\n",
    "            res = diff(t[i], coords[j])\n",
    "            for k in range(0, 3):\n",
    "                res -= christoffel[k][i, j] * t[k]\n",
    "            row.append(res)\n",
    "        rows.append(row)\n",
    "    return Matrix(rows).applyfunc(simplify)\n",
    "\n",
    "# Compute covariant derivative of rank-2 covariant tensor\n",
    "def compute_diff_matrix_lo(m, christoffel):\n",
    "    if m.shape != (3, 3) or len(christoffel) != 3:\n",
    "        raise Exception('Invalid dimensions')\n",
    "\n",
    "    out = []\n",
    "    for i in range(0, 3):\n",
    "        rows = []\n",
    "        for j in range(0, 3):\n",
    "            row = []\n",
    "            for k in range(0, 3):\n",
    "                res = diff(m[j, k], coords[i])\n",
    "                for l in range(0, 3):\n",
    "                    res -= christoffel[l][i, j] * m[l, k]\n",
    "                    res -= christoffel[l][i, k] * m[j, l]\n",
    "                row.append(res)\n",
    "            rows.append(row)\n",
    "        out.append(Matrix(rows).applyfunc(simplify))\n",
    "    return out"
   ]
  },
  {
   "cell_type": "code",
   "execution_count": 22,
   "metadata": {},
   "outputs": [],
   "source": [
    "W_r = Function(Symbol('W_r', real=True))\n",
    "W = Matrix([ W_r(r), 0, 0 ])"
   ]
  },
  {
   "cell_type": "code",
   "execution_count": 23,
   "metadata": {},
   "outputs": [
    {
     "data": {
      "image/png": "[encoded data removed]",
      "text/latex": [
       "$\\displaystyle \\left[\\begin{matrix}\\frac{d}{d r} \\operatorname{W_{r}}{\\left(r \\right)} & 0 & 0\\\\0 & r \\operatorname{W_{r}}{\\left(r \\right)} & 0\\\\0 & 0 & r \\operatorname{W_{r}}{\\left(r \\right)} \\sin{\\left(\\theta \\right)}\\end{matrix}\\right]$"
      ],
      "text/plain": [
       "⎡d                                      ⎤\n",
       "⎢──(Wᵣ(r))     0              0         ⎥\n",
       "⎢dr                                     ⎥\n",
       "⎢                                       ⎥\n",
       "⎢    0      r⋅Wᵣ(r)           0         ⎥\n",
       "⎢                                       ⎥\n",
       "⎣    0         0     r⋅Wᵣ(r)⋅sin(\\theta)⎦"
      ]
     },
     "execution_count": 23,
     "metadata": {},
     "output_type": "execute_result"
    }
   ],
   "source": [
    "DW = compute_diff_vec_lo(W, christoffel)\n",
    "DW"
   ]
  },
  {
   "cell_type": "code",
   "execution_count": 25,
   "metadata": {},
   "outputs": [
    {
     "data": {
      "image/png": "[encoded data removed]",
      "text/latex": [
       "$\\displaystyle \\left[ \\left[\\begin{matrix}\\frac{d^{2}}{d r^{2}} \\operatorname{W_{r}}{\\left(r \\right)} & 0 & 0\\\\0 & r \\frac{d}{d r} \\operatorname{W_{r}}{\\left(r \\right)} - \\operatorname{W_{r}}{\\left(r \\right)} & 0\\\\0 & 0 & \\left(r \\frac{d}{d r} \\operatorname{W_{r}}{\\left(r \\right)} - \\operatorname{W_{r}}{\\left(r \\right)}\\right) \\sin{\\left(\\theta \\right)}\\end{matrix}\\right], \\  \\left[\\begin{matrix}0 & r \\frac{d}{d r} \\operatorname{W_{r}}{\\left(r \\right)} - \\operatorname{W_{r}}{\\left(r \\right)} & 0\\\\r \\frac{d}{d r} \\operatorname{W_{r}}{\\left(r \\right)} - \\operatorname{W_{r}}{\\left(r \\right)} & 0 & 0\\\\0 & 0 & 0\\end{matrix}\\right], \\  \\left[\\begin{matrix}0 & 0 & \\left(r \\frac{d}{d r} \\operatorname{W_{r}}{\\left(r \\right)} - \\operatorname{W_{r}}{\\left(r \\right)}\\right) \\sin{\\left(\\theta \\right)}\\\\0 & 0 & 0\\\\\\left(r \\frac{d}{d r} \\operatorname{W_{r}}{\\left(r \\right)} - \\operatorname{W_{r}}{\\left(r \\right)}\\right) \\sin{\\left(\\theta \\right)} & 0 & 0\\end{matrix}\\right]\\right]$"
      ],
      "text/plain": [
       "⎡⎡  2                                                               ⎤         \n",
       "⎢⎢ d                                                                ⎥         \n",
       "⎢⎢───(Wᵣ(r))           0                           0                ⎥  ⎡      \n",
       "⎢⎢  2                                                               ⎥  ⎢      \n",
       "⎢⎢dr                                                                ⎥  ⎢      \n",
       "⎢⎢                                                                  ⎥  ⎢      \n",
       "⎢⎢              d                                                   ⎥, ⎢  d   \n",
       "⎢⎢    0       r⋅──(Wᵣ(r)) - Wᵣ(r)                  0                ⎥  ⎢r⋅──(W\n",
       "⎢⎢              dr                                                  ⎥  ⎢  dr  \n",
       "⎢⎢                                                                  ⎥  ⎢      \n",
       "⎢⎢                                 ⎛  d                ⎞            ⎥  ⎣      \n",
       "⎢⎢    0                0           ⎜r⋅──(Wᵣ(r)) - Wᵣ(r)⎟⋅sin(\\theta)⎥         \n",
       "⎣⎣                                 ⎝  dr               ⎠            ⎦         \n",
       "\n",
       "                                                                              \n",
       "                                                                              \n",
       "                 d                   ⎤  ⎡                                     \n",
       "   0           r⋅──(Wᵣ(r)) - Wᵣ(r)  0⎥  ⎢                0                  0 \n",
       "                 dr                  ⎥  ⎢                                     \n",
       "                                     ⎥  ⎢                                     \n",
       "                                     ⎥, ⎢                0                  0 \n",
       "ᵣ(r)) - Wᵣ(r)           0           0⎥  ⎢                                     \n",
       "                                     ⎥  ⎢⎛  d                ⎞                \n",
       "                                     ⎥  ⎢⎜r⋅──(Wᵣ(r)) - Wᵣ(r)⎟⋅sin(\\theta)  0 \n",
       "   0                    0           0⎦  ⎣⎝  dr               ⎠                \n",
       "                                                                              \n",
       "                                                                              \n",
       "\n",
       "                                   ⎤\n",
       "                                   ⎥\n",
       " ⎛  d                ⎞            ⎤⎥\n",
       " ⎜r⋅──(Wᵣ(r)) - Wᵣ(r)⎟⋅sin(\\theta)⎥⎥\n",
       " ⎝  dr               ⎠            ⎥⎥\n",
       "                                  ⎥⎥\n",
       "                 0                ⎥⎥\n",
       "                                  ⎥⎥\n",
       "                                  ⎥⎥\n",
       "                 0                ⎥⎥\n",
       "                                  ⎦⎥\n",
       "                                   ⎥\n",
       "                                   ⎦"
      ]
     },
     "execution_count": 25,
     "metadata": {},
     "output_type": "execute_result"
    }
   ],
   "source": [
    "DDW = compute_diff_matrix_lo(DW, christoffel)\n",
    "DDW"
   ]
  },
  {
   "cell_type": "code",
   "execution_count": 34,
   "metadata": {},
   "outputs": [
    {
     "data": {
      "image/png": "[encoded data removed]",
      "text/latex": [
       "$\\displaystyle \\frac{d}{d r} \\operatorname{W_{r}}{\\left(r \\right)} + \\frac{2 \\operatorname{W_{r}}{\\left(r \\right)}}{r}$"
      ],
      "text/plain": [
       "d           2⋅Wᵣ(r)\n",
       "──(Wᵣ(r)) + ───────\n",
       "dr             r   "
      ]
     },
     "execution_count": 34,
     "metadata": {},
     "output_type": "execute_result"
    }
   ],
   "source": [
    "divW = Trace(inv_metric * DW).simplify()\n",
    "divW"
   ]
  },
  {
   "cell_type": "code",
   "execution_count": 31,
   "metadata": {},
   "outputs": [
    {
     "data": {
      "image/png": "[encoded data removed]",
      "text/latex": [
       "$\\displaystyle \\left[\\begin{matrix}\\frac{d^{2}}{d r^{2}} \\operatorname{W_{r}}{\\left(r \\right)} + \\frac{2 \\frac{d}{d r} \\operatorname{W_{r}}{\\left(r \\right)}}{r} - \\frac{2 \\operatorname{W_{r}}{\\left(r \\right)}}{r^{2}}\\\\0\\\\0\\end{matrix}\\right]$"
      ],
      "text/plain": [
       "⎡               d                  ⎤\n",
       "⎢  2          2⋅──(Wᵣ(r))          ⎥\n",
       "⎢ d             dr          2⋅Wᵣ(r)⎥\n",
       "⎢───(Wᵣ(r)) + ─────────── - ───────⎥\n",
       "⎢  2               r            2  ⎥\n",
       "⎢dr                            r   ⎥\n",
       "⎢                                  ⎥\n",
       "⎢                0                 ⎥\n",
       "⎢                                  ⎥\n",
       "⎣                0                 ⎦"
      ]
     },
     "execution_count": 31,
     "metadata": {},
     "output_type": "execute_result"
    }
   ],
   "source": [
    "DdivW = compute_diff_scalar(divW, christoffel)\n",
    "DdivW"
   ]
  },
  {
   "cell_type": "code",
   "execution_count": 54,
   "metadata": {},
   "outputs": [
    {
     "data": {
      "image/png": "[encoded data removed]",
      "text/latex": [
       "$\\displaystyle \\left[\\begin{matrix}\\frac{d^{2}}{d r^{2}} \\operatorname{W_{r}}{\\left(r \\right)} + \\frac{2 \\frac{d}{d r} \\operatorname{W_{r}}{\\left(r \\right)}}{r} - \\frac{2 \\operatorname{W_{r}}{\\left(r \\right)}}{r^{2}}\\\\0\\\\0\\end{matrix}\\right]$"
      ],
      "text/plain": [
       "⎡               d                  ⎤\n",
       "⎢  2          2⋅──(Wᵣ(r))          ⎥\n",
       "⎢ d             dr          2⋅Wᵣ(r)⎥\n",
       "⎢───(Wᵣ(r)) + ─────────── - ───────⎥\n",
       "⎢  2               r            2  ⎥\n",
       "⎢dr                            r   ⎥\n",
       "⎢                                  ⎥\n",
       "⎢                0                 ⎥\n",
       "⎢                                  ⎥\n",
       "⎣                0                 ⎦"
      ]
     },
     "execution_count": 54,
     "metadata": {},
     "output_type": "execute_result"
    }
   ],
   "source": [
    "def compute_D2W():\n",
    "    column = []\n",
    "    for i in range(0, 3):\n",
    "        val = 0.0\n",
    "        for j in range(0, 3):\n",
    "            for k in range(0, 3):\n",
    "                val += inv_metric[j, k] * DDW[k][j, i]\n",
    "        column.append(val)\n",
    "    return Matrix(column).applyfunc(simplify)\n",
    "D2W = compute_D2W()\n",
    "D2W"
   ]
  },
  {
   "cell_type": "code",
   "execution_count": 41,
   "metadata": {},
   "outputs": [
    {
     "data": {
      "image/png": "[encoded data removed]",
      "text/latex": [
       "$\\displaystyle \\left[\\begin{matrix}0 & 0 & 0\\\\0 & - \\frac{- \\tan^{2}{\\left(\\theta \\right)} - 1}{2 \\tan^{2}{\\left(\\theta \\right)}} - 1 - \\frac{1}{4 \\tan^{2}{\\left(\\theta \\right)}} & 0\\\\0 & 0 & - \\frac{3 \\sin{\\left(\\theta \\right)}}{4} + \\frac{1}{4 \\sin{\\left(\\theta \\right)}}\\end{matrix}\\right]$"
      ],
      "text/plain": [
       "⎡0                      0                                     0               \n",
       "⎢                                                                             \n",
       "⎢          2                                                                  \n",
       "⎢     - tan (\\theta) - 1             1                                        \n",
       "⎢0  - ────────────────── - 1 - ──────────────                 0               \n",
       "⎢            2                      2                                         \n",
       "⎢       2⋅tan (\\theta)         4⋅tan (\\theta)                                 \n",
       "⎢                                                                             \n",
       "⎢                                                3⋅sin(\\theta)         1      \n",
       "⎢0                      0                      - ───────────── + ─────────────\n",
       "⎣                                                      4         4⋅sin(\\theta)\n",
       "\n",
       "⎤\n",
       "⎥\n",
       "⎥\n",
       "⎥\n",
       "⎥\n",
       "⎥\n",
       "⎥\n",
       "⎥\n",
       "⎥\n",
       "⎥\n",
       "⎦"
      ]
     },
     "execution_count": 41,
     "metadata": {},
     "output_type": "execute_result"
    }
   ],
   "source": [
    "ricci = compute_ricci(christoffel)\n",
    "ricci"
   ]
  },
  {
   "cell_type": "code",
   "execution_count": 42,
   "metadata": {},
   "outputs": [
    {
     "data": {
      "image/png": "[encoded data removed]",
      "text/latex": [
       "$\\displaystyle \\left[\\begin{matrix}0\\\\0\\\\0\\end{matrix}\\right]$"
      ],
      "text/plain": [
       "⎡0⎤\n",
       "⎢ ⎥\n",
       "⎢0⎥\n",
       "⎢ ⎥\n",
       "⎣0⎦"
      ]
     },
     "execution_count": 42,
     "metadata": {},
     "output_type": "execute_result"
    }
   ],
   "source": [
    "ricci * inv_metric * W"
   ]
  },
  {
   "cell_type": "code",
   "execution_count": 60,
   "metadata": {},
   "outputs": [
    {
     "data": {
      "image/png": "[encoded data removed]",
      "text/latex": [
       "$\\displaystyle \\left[\\begin{matrix}\\frac{4 \\frac{d^{2}}{d r^{2}} \\operatorname{W_{r}}{\\left(r \\right)}}{3} + \\frac{8 \\frac{d}{d r} \\operatorname{W_{r}}{\\left(r \\right)}}{3 r} - \\frac{8 \\operatorname{W_{r}}{\\left(r \\right)}}{3 r^{2}}\\\\0\\\\0\\end{matrix}\\right]$"
      ],
      "text/plain": [
       "⎡    2                               ⎤\n",
       "⎢   d                                ⎥\n",
       "⎢4⋅───(Wᵣ(r))     d                  ⎥\n",
       "⎢    2          8⋅──(Wᵣ(r))          ⎥\n",
       "⎢  dr             dr          8⋅Wᵣ(r)⎥\n",
       "⎢──────────── + ─────────── - ───────⎥\n",
       "⎢     3             3⋅r            2 ⎥\n",
       "⎢                               3⋅r  ⎥\n",
       "⎢                                    ⎥\n",
       "⎢                 0                  ⎥\n",
       "⎢                                    ⎥\n",
       "⎣                 0                  ⎦"
      ]
     },
     "execution_count": 60,
     "metadata": {},
     "output_type": "execute_result"
    }
   ],
   "source": [
    "Delta_L = D2W + DdivW / 3\n",
    "Delta_L"
   ]
  },
  {
   "cell_type": "code",
   "execution_count": 68,
   "metadata": {},
   "outputs": [
    {
     "data": {
      "image/png": "[encoded data removed]",
      "text/latex": [
       "$\\displaystyle \\frac{4 \\frac{d^{2}}{d r^{2}} \\operatorname{W_{r}}{\\left(r \\right)}}{3} + \\frac{8 \\frac{d}{d r} \\operatorname{W_{r}}{\\left(r \\right)}}{3 r} - \\frac{8 \\operatorname{W_{r}}{\\left(r \\right)}}{3 r^{2}}$"
      ],
      "text/plain": [
       "    2                               \n",
       "   d                                \n",
       "4⋅───(Wᵣ(r))     d                  \n",
       "    2          8⋅──(Wᵣ(r))          \n",
       "  dr             dr          8⋅Wᵣ(r)\n",
       "──────────── + ─────────── - ───────\n",
       "     3             3⋅r            2 \n",
       "                               3⋅r  "
      ]
     },
     "execution_count": 68,
     "metadata": {},
     "output_type": "execute_result"
    }
   ],
   "source": [
    "(4 * Derivative(1 / r ** 2 * Derivative(r ** 2 * W_r(r), r), r) / 3).simplify()"
   ]
  },
  {
   "cell_type": "code",
   "execution_count": null,
   "metadata": {},
   "outputs": [],
   "source": []
  }
 ],
 "metadata": {
  "kernelspec": {
   "display_name": "Python 3",
   "language": "python",
   "name": "python3"
  },
  "language_info": {
   "codemirror_mode": {
    "name": "ipython",
    "version": 3
   },
   "file_extension": ".py",
   "mimetype": "text/x-python",
   "name": "python",
   "nbconvert_exporter": "python",
   "pygments_lexer": "ipython3",
   "version": "3.7.7"
  }
 },
 "nbformat": 4,
 "nbformat_minor": 4
}
