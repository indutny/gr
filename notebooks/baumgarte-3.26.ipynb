{
 "cells": [
  {
   "cell_type": "code",
   "execution_count": 2,
   "metadata": {},
   "outputs": [],
   "source": [
    "from sympy import *\n",
    "init_printing(use_unicode=True)"
   ]
  },
  {
   "cell_type": "code",
   "execution_count": 3,
   "metadata": {},
   "outputs": [],
   "source": [
    "rho, z, A, n, l, rs = symbols('\\\\rho, z, A, n, \\\\lambda, r')\n",
    "r = sqrt(rho ** 2 + z ** 2)"
   ]
  },
  {
   "cell_type": "code",
   "execution_count": 4,
   "metadata": {},
   "outputs": [
    {
     "data": {
      "image/png": "[encoded data removed]",
      "text/latex": [
       "$\\displaystyle \\frac{A \\rho^{2}}{\\left(\\frac{\\sqrt{\\rho^{2} + z^{2}}}{\\lambda}\\right)^{n} + 1}$"
      ],
      "text/plain": [
       "             2        \n",
       "       A⋅\\rho         \n",
       "──────────────────────\n",
       "                 n    \n",
       "⎛   ____________⎞     \n",
       "⎜  ╱     2    2 ⎟     \n",
       "⎜╲╱  \\rho  + z  ⎟     \n",
       "⎜───────────────⎟  + 1\n",
       "⎝    \\lambda    ⎠     "
      ]
     },
     "execution_count": 4,
     "metadata": {},
     "output_type": "execute_result"
    }
   ],
   "source": [
    "q = (A * rho ** 2) / (1 + (r / l) ** n)\n",
    "q"
   ]
  },
  {
   "cell_type": "code",
   "execution_count": 5,
   "metadata": {},
   "outputs": [
    {
     "data": {
      "image/png": "[encoded data removed]",
      "text/latex": [
       "$\\displaystyle \\frac{A \\left(50 \\rho^{4} r^{6} - 5 \\rho^{2} r \\left(8 \\rho^{2} + 5 z^{2}\\right) \\left(\\left(r^{2}\\right)^{\\frac{5}{2}} + 1\\right) + 5 \\rho^{2} r \\left(10 r^{5} z^{2} - \\left(\\rho^{2} + 4 z^{2}\\right) \\left(\\left(r^{2}\\right)^{\\frac{5}{2}} + 1\\right)\\right) + 2 \\left(\\left(r^{2}\\right)^{\\frac{5}{2}} + 1\\right)^{2}\\right)}{\\left(\\left(r^{2}\\right)^{\\frac{5}{2}} + 1\\right)^{3}}$"
      ],
      "text/plain": [
       "  ⎛                                                                           \n",
       "  ⎜                                         ⎛    5/2    ⎞             ⎛       \n",
       "  ⎜       4  6         2   ⎛      2      2⎞ ⎜⎛ 2⎞       ⎟         2   ⎜    5  \n",
       "A⋅⎝50⋅\\rho ⋅r  - 5⋅\\rho ⋅r⋅⎝8⋅\\rho  + 5⋅z ⎠⋅⎝⎝r ⎠    + 1⎠ + 5⋅\\rho ⋅r⋅⎝10⋅r ⋅z\n",
       "──────────────────────────────────────────────────────────────────────────────\n",
       "                                                                        3     \n",
       "                                                           ⎛    5/2    ⎞      \n",
       "                                                           ⎜⎛ 2⎞       ⎟      \n",
       "                                                           ⎝⎝r ⎠    + 1⎠      \n",
       "\n",
       "                                                   2⎞\n",
       "                   ⎛    5/2    ⎞⎞     ⎛    5/2    ⎞ ⎟\n",
       "2   ⎛    2      2⎞ ⎜⎛ 2⎞       ⎟⎟     ⎜⎛ 2⎞       ⎟ ⎟\n",
       "  - ⎝\\rho  + 4⋅z ⎠⋅⎝⎝r ⎠    + 1⎠⎠ + 2⋅⎝⎝r ⎠    + 1⎠ ⎠\n",
       "─────────────────────────────────────────────────────\n",
       "                                                     \n",
       "                                                     \n",
       "                                                     \n",
       "                                                     "
      ]
     },
     "execution_count": 5,
     "metadata": {},
     "output_type": "execute_result"
    }
   ],
   "source": [
    "t = (diff(diff(q, rho), rho).subs({ n: 5, l: 1 }).simplify() + diff(diff(q, z), z).subs({ n: 5, l: 1 }).simplify()).simplify()\n",
    "t.replace(rho ** 2 + z ** 2, rs ** 2).replace(sqrt(rs ** 2), rs).simplify()"
   ]
  },
  {
   "cell_type": "code",
   "execution_count": 15,
   "metadata": {},
   "outputs": [
    {
     "data": {
      "image/png": "[encoded data removed]",
      "text/latex": [
       "$\\displaystyle 0.000366143887447082$"
      ],
      "text/plain": [
       "0.000366143887447082"
      ]
     },
     "execution_count": 15,
     "metadata": {},
     "output_type": "execute_result"
    }
   ],
   "source": [
    "diff(diff(q, rho), rho).subs({ A: 1, n: 5, l: 1, rho: 8.0, z: 0.0 })"
   ]
  },
  {
   "cell_type": "code",
   "execution_count": null,
   "metadata": {},
   "outputs": [],
   "source": []
  }
 ],
 "metadata": {
  "kernelspec": {
   "display_name": "Python 3",
   "language": "python",
   "name": "python3"
  },
  "language_info": {
   "codemirror_mode": {
    "name": "ipython",
    "version": 3
   },
   "file_extension": ".py",
   "mimetype": "text/x-python",
   "name": "python",
   "nbconvert_exporter": "python",
   "pygments_lexer": "ipython3",
   "version": "3.7.7"
  }
 },
 "nbformat": 4,
 "nbformat_minor": 4
}
