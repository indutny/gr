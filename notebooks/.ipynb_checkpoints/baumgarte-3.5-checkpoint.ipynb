{
 "cells": [
  {
   "cell_type": "markdown",
   "metadata": {},
   "source": [
    "# Baumgarte - Numerical Relativity\n",
    "## Problem 2.32"
   ]
  },
  {
   "cell_type": "markdown",
   "metadata": {},
   "source": [
    "Let's define useful symbols first"
   ]
  },
  {
   "cell_type": "code",
   "execution_count": 1,
   "metadata": {},
   "outputs": [],
   "source": [
    "from sympy import *\n",
    "init_printing(use_unicode=True)"
   ]
  },
  {
   "cell_type": "code",
   "execution_count": 2,
   "metadata": {},
   "outputs": [],
   "source": [
    "r, theta, phi = symbols('r, \\\\theta, \\phi')\n",
    "M = symbols('M')\n",
    "psi = Function(Symbol('\\psi', real=True))\n",
    "coords = [ r, theta, phi ]"
   ]
  },
  {
   "cell_type": "markdown",
   "metadata": {},
   "source": [
    "and specify general conformally flat metric:"
   ]
  },
  {
   "cell_type": "code",
   "execution_count": 3,
   "metadata": {},
   "outputs": [
    {
     "data": {
      "image/png": "[encoded data removed]",
      "text/latex": [
       "$\\displaystyle \\left[\\begin{matrix}\\psi^{4}{\\left(r \\right)} & 0 & 0\\\\0 & r^{2} \\psi^{4}{\\left(r \\right)} & 0\\\\0 & 0 & r^{2} \\psi^{4}{\\left(r \\right)} \\sin^{2}{\\left(\\theta \\right)}\\end{matrix}\\right]$"
      ],
      "text/plain": [
       "⎡    4                                          ⎤\n",
       "⎢\\psi (r)       0                  0            ⎥\n",
       "⎢                                               ⎥\n",
       "⎢           2     4                             ⎥\n",
       "⎢   0      r ⋅\\psi (r)             0            ⎥\n",
       "⎢                                               ⎥\n",
       "⎢                        2     4       2        ⎥\n",
       "⎣   0           0       r ⋅\\psi (r)⋅sin (\\theta)⎦"
      ]
     },
     "execution_count": 3,
     "metadata": {},
     "output_type": "execute_result"
    }
   ],
   "source": [
    "conf_metric = (psi(r) ** 4) * Matrix([[1, 0, 0], [0, r ** 2, 0], [ 0, 0, r ** 2 * sin(theta) ** 2 ]])\n",
    "conf_metric"
   ]
  },
  {
   "cell_type": "code",
   "execution_count": 4,
   "metadata": {},
   "outputs": [
    {
     "data": {
      "image/png": "[encoded data removed]",
      "text/latex": [
       "$\\displaystyle \\left[\\begin{matrix}\\frac{1}{\\psi^{4}{\\left(r \\right)}} & 0 & 0\\\\0 & \\frac{1}{r^{2} \\psi^{4}{\\left(r \\right)}} & 0\\\\0 & 0 & \\frac{1}{r^{2} \\psi^{4}{\\left(r \\right)} \\sin^{2}{\\left(\\theta \\right)}}\\end{matrix}\\right]$"
      ],
      "text/plain": [
       "⎡   1                                           ⎤\n",
       "⎢────────       0                  0            ⎥\n",
       "⎢    4                                          ⎥\n",
       "⎢\\psi (r)                                       ⎥\n",
       "⎢                                               ⎥\n",
       "⎢               1                               ⎥\n",
       "⎢   0      ───────────             0            ⎥\n",
       "⎢           2     4                             ⎥\n",
       "⎢          r ⋅\\psi (r)                          ⎥\n",
       "⎢                                               ⎥\n",
       "⎢                                  1            ⎥\n",
       "⎢   0           0       ────────────────────────⎥\n",
       "⎢                        2     4       2        ⎥\n",
       "⎣                       r ⋅\\psi (r)⋅sin (\\theta)⎦"
      ]
     },
     "execution_count": 4,
     "metadata": {},
     "output_type": "execute_result"
    }
   ],
   "source": [
    "conf_metric.inv()"
   ]
  },
  {
   "cell_type": "code",
   "execution_count": 5,
   "metadata": {},
   "outputs": [],
   "source": [
    "def compute_christoffel(metric):\n",
    "    if metric.shape != (3, 3):\n",
    "        raise Exception(\"Invalid dimensions\")\n",
    "\n",
    "    inv_metric = metric.inv()\n",
    "    \n",
    "    out = []\n",
    "    for i in range(0, 3):\n",
    "        rows = []\n",
    "        for j in range(0, 3):\n",
    "            row = []\n",
    "            for k in range(0, 3):\n",
    "                res = 0.0\n",
    "                for l in range(0, 3):\n",
    "                    res += inv_metric[i, l] * (\n",
    "                        Derivative(metric[l, j], coords[k]) +\n",
    "                        Derivative(metric[l, k], coords[j]) -\n",
    "                        Derivative(metric[j, k], coords[l]))\n",
    "                row.append(res / 2)\n",
    "            rows.append(row)\n",
    "        out.append(Matrix(rows).applyfunc(simplify))\n",
    "    return out"
   ]
  },
  {
   "cell_type": "code",
   "execution_count": 6,
   "metadata": {},
   "outputs": [],
   "source": [
    "def compute_ricci(christoffel):\n",
    "    if len(christoffel) != 3 or christoffel[0].shape != (3, 3):\n",
    "        raise Exception(\"Invalid dimensions\")\n",
    "    rows = []\n",
    "    for i in range(0, 3):\n",
    "        row = []\n",
    "        for j in range(0, 3):\n",
    "            res = 0.0\n",
    "            for k in range(0, 3):\n",
    "                res += Derivative(christoffel[k][i, j], coords[k])\n",
    "                res -= Derivative(christoffel[k][k, j], coords[i])\n",
    "                for l in range(0, 3):\n",
    "                    res += christoffel[k][i, j] * christoffel[l][k, l]\n",
    "                    res -= christoffel[k][i, l] * christoffel[l][j, k]\n",
    "            row.append(res)\n",
    "        rows.append(row)\n",
    "    return Matrix(rows).applyfunc(simplify) "
   ]
  },
  {
   "cell_type": "code",
   "execution_count": 7,
   "metadata": {},
   "outputs": [],
   "source": [
    "def compute_trace(matrix_lo, inv_metric):\n",
    "    return simplify(matrix_lo[0, 0] * inv_metric[0, 0] +\n",
    "                    matrix_lo[1, 1] * inv_metric[1, 1] +\n",
    "                    matrix_lo[2, 2] * inv_metric[2, 2])"
   ]
  },
  {
   "cell_type": "code",
   "execution_count": 8,
   "metadata": {},
   "outputs": [],
   "source": [
    "conf_christoffel = compute_christoffel(conf_metric)"
   ]
  },
  {
   "cell_type": "code",
   "execution_count": 9,
   "metadata": {
    "scrolled": true
   },
   "outputs": [],
   "source": [
    "conf_ricci = compute_ricci(conf_christoffel)"
   ]
  },
  {
   "cell_type": "code",
   "execution_count": 10,
   "metadata": {},
   "outputs": [],
   "source": [
    "conf_ricci_scalar = compute_trace(conf_ricci, conf_metric.inv())"
   ]
  },
  {
   "cell_type": "code",
   "execution_count": 11,
   "metadata": {},
   "outputs": [
    {
     "data": {
      "image/png": "[encoded data removed]",
      "text/latex": [
       "$\\displaystyle \\left[ \\left[\\begin{matrix}\\frac{2 \\frac{d}{d r} \\psi{\\left(r \\right)}}{\\psi{\\left(r \\right)}} & 0 & 0\\\\0 & \\frac{- 2 r^{2} \\psi^{3}{\\left(r \\right)} \\frac{d}{d r} \\psi{\\left(r \\right)} - r \\psi^{4}{\\left(r \\right)}}{\\psi^{4}{\\left(r \\right)}} & 0\\\\0 & 0 & \\frac{- 2 r^{2} \\psi^{3}{\\left(r \\right)} \\sin^{2}{\\left(\\theta \\right)} \\frac{d}{d r} \\psi{\\left(r \\right)} - r \\psi^{4}{\\left(r \\right)} \\sin^{2}{\\left(\\theta \\right)}}{\\psi^{4}{\\left(r \\right)}}\\end{matrix}\\right], \\  \\left[\\begin{matrix}0 & \\frac{4 r^{2} \\psi^{3}{\\left(r \\right)} \\frac{d}{d r} \\psi{\\left(r \\right)} + 2 r \\psi^{4}{\\left(r \\right)}}{2 r^{2} \\psi^{4}{\\left(r \\right)}} & 0\\\\\\frac{4 r^{2} \\psi^{3}{\\left(r \\right)} \\frac{d}{d r} \\psi{\\left(r \\right)} + 2 r \\psi^{4}{\\left(r \\right)}}{2 r^{2} \\psi^{4}{\\left(r \\right)}} & 0 & 0\\\\0 & 0 & - \\sin{\\left(\\theta \\right)} \\cos{\\left(\\theta \\right)}\\end{matrix}\\right], \\  \\left[\\begin{matrix}0 & 0 & \\frac{4 r^{2} \\psi^{3}{\\left(r \\right)} \\sin^{2}{\\left(\\theta \\right)} \\frac{d}{d r} \\psi{\\left(r \\right)} + 2 r \\psi^{4}{\\left(r \\right)} \\sin^{2}{\\left(\\theta \\right)}}{2 r^{2} \\psi^{4}{\\left(r \\right)} \\sin^{2}{\\left(\\theta \\right)}}\\\\0 & 0 & \\frac{\\cos{\\left(\\theta \\right)}}{\\sin{\\left(\\theta \\right)}}\\\\\\frac{4 r^{2} \\psi^{3}{\\left(r \\right)} \\sin^{2}{\\left(\\theta \\right)} \\frac{d}{d r} \\psi{\\left(r \\right)} + 2 r \\psi^{4}{\\left(r \\right)} \\sin^{2}{\\left(\\theta \\right)}}{2 r^{2} \\psi^{4}{\\left(r \\right)} \\sin^{2}{\\left(\\theta \\right)}} & \\frac{\\cos{\\left(\\theta \\right)}}{\\sin{\\left(\\theta \\right)}} & 0\\end{matrix}\\right]\\right]$"
      ],
      "text/plain": [
       "⎡⎡  d                                                                         \n",
       "⎢⎢2⋅──(\\psi(r))                                                               \n",
       "⎢⎢  dr                                                                        \n",
       "⎢⎢─────────────                     0                                         \n",
       "⎢⎢   \\psi(r)                                                                  \n",
       "⎢⎢                                                                            \n",
       "⎢⎢                    2     3    d                   4                        \n",
       "⎢⎢               - 2⋅r ⋅\\psi (r)⋅──(\\psi(r)) - r⋅\\psi (r)                     \n",
       "⎢⎢                               dr                                           \n",
       "⎢⎢      0        ────────────────────────────────────────                     \n",
       "⎢⎢                                   4                                        \n",
       "⎢⎢                               \\psi (r)                                     \n",
       "⎢⎢                                                                            \n",
       "⎢⎢                                                              2     3       \n",
       "⎢⎢                                                         - 2⋅r ⋅\\psi (r)⋅sin\n",
       "⎢⎢                                                                            \n",
       "⎢⎢      0                           0                      ───────────────────\n",
       "⎢⎢                                                                            \n",
       "⎣⎣                                                                            \n",
       "\n",
       "                                               ⎤                              \n",
       "                                               ⎥                              \n",
       "                                               ⎥  ⎡                           \n",
       "             0                                 ⎥  ⎢                           \n",
       "                                               ⎥  ⎢                           \n",
       "                                               ⎥  ⎢                   0       \n",
       "                                               ⎥  ⎢                           \n",
       "                                               ⎥  ⎢                           \n",
       "                                               ⎥  ⎢                           \n",
       "             0                                 ⎥, ⎢   2     3    d            \n",
       "                                               ⎥  ⎢4⋅r ⋅\\psi (r)⋅──(\\psi(r)) +\n",
       "                                               ⎥  ⎢              dr           \n",
       "                                               ⎥  ⎢───────────────────────────\n",
       "2         d                   4       2        ⎥  ⎢                2     4    \n",
       " (\\theta)⋅──(\\psi(r)) - r⋅\\psi (r)⋅sin (\\theta)⎥  ⎢             2⋅r ⋅\\psi (r) \n",
       "          dr                                   ⎥  ⎢                           \n",
       "───────────────────────────────────────────────⎥  ⎣                   0       \n",
       "              4                                ⎥                              \n",
       "          \\psi (r)                             ⎦                              \n",
       "\n",
       "                                                                              \n",
       "                                                                              \n",
       "                  2     3    d                     4                          \n",
       "               4⋅r ⋅\\psi (r)⋅──(\\psi(r)) + 2⋅r⋅\\psi (r)                       \n",
       "                             dr                                               \n",
       "               ────────────────────────────────────────             0         \n",
       "                               2     4                                        \n",
       "                            2⋅r ⋅\\psi (r)                                     \n",
       "                                                                              \n",
       "         4                                                                    \n",
       " 2⋅r⋅\\psi (r)                                                                 \n",
       "                                                                              \n",
       "─────────────                     0                                 0         \n",
       "                                                                              \n",
       "                                                                              \n",
       "                                                                              \n",
       "                                  0                      -sin(\\theta)⋅cos(\\the\n",
       "                                                                              \n",
       "                                                                              \n",
       "\n",
       "                                                                              \n",
       "      ⎡                                                                       \n",
       "   ⎤  ⎢                                                                       \n",
       "   ⎥  ⎢                                                                       \n",
       "   ⎥  ⎢                                0                                      \n",
       "   ⎥  ⎢                                                                       \n",
       "   ⎥  ⎢                                                                       \n",
       "   ⎥  ⎢                                                                       \n",
       "   ⎥  ⎢                                                                       \n",
       "   ⎥, ⎢                                0                                      \n",
       "   ⎥  ⎢                                                                       \n",
       "   ⎥  ⎢                                                                       \n",
       "   ⎥  ⎢   2     3       2         d                     4       2             \n",
       "   ⎥  ⎢4⋅r ⋅\\psi (r)⋅sin (\\theta)⋅──(\\psi(r)) + 2⋅r⋅\\psi (r)⋅sin (\\theta)     \n",
       "   ⎥  ⎢                           dr                                       cos\n",
       "   ⎥  ⎢──────────────────────────────────────────────────────────────────  ───\n",
       "ta)⎦  ⎢                       2     4       2                              sin\n",
       "      ⎣                    2⋅r ⋅\\psi (r)⋅sin (\\theta)                         \n",
       "                                                                              \n",
       "\n",
       "                                                                             ⎤\n",
       "             2     3       2         d                     4       2        ⎤⎥\n",
       "          4⋅r ⋅\\psi (r)⋅sin (\\theta)⋅──(\\psi(r)) + 2⋅r⋅\\psi (r)⋅sin (\\theta)⎥⎥\n",
       "                                     dr                                     ⎥⎥\n",
       "  0       ──────────────────────────────────────────────────────────────────⎥⎥\n",
       "                                 2     4       2                            ⎥⎥\n",
       "                              2⋅r ⋅\\psi (r)⋅sin (\\theta)                    ⎥⎥\n",
       "                                                                            ⎥⎥\n",
       "                                     cos(\\theta)                            ⎥⎥\n",
       "  0                                  ───────────                            ⎥⎥\n",
       "                                     sin(\\theta)                            ⎥⎥\n",
       "                                                                            ⎥⎥\n",
       "                                                                            ⎥⎥\n",
       "                                                                            ⎥⎥\n",
       "(\\theta)                                                                    ⎥⎥\n",
       "────────                                  0                                 ⎥⎥\n",
       "(\\theta)                                                                    ⎥⎥\n",
       "                                                                            ⎦⎥\n",
       "                                                                             ⎦"
      ]
     },
     "execution_count": 11,
     "metadata": {},
     "output_type": "execute_result"
    }
   ],
   "source": [
    "conf_christoffel"
   ]
  },
  {
   "cell_type": "markdown",
   "metadata": {},
   "source": [
    "### Isotropic"
   ]
  },
  {
   "cell_type": "code",
   "execution_count": 12,
   "metadata": {},
   "outputs": [
    {
     "data": {
      "image/png": "[encoded data removed]",
      "text/latex": [
       "$\\displaystyle \\left[\\begin{matrix}- \\frac{8 M}{4 M^{2} r + 4 M r^{2} + r^{3}} & 0 & 0\\\\0 & \\frac{4 M r}{4 M^{2} + 4 M r + r^{2}} & 0\\\\0 & 0 & \\frac{4 M r \\sin^{2}{\\left(\\theta \\right)}}{4 M^{2} + 4 M r + r^{2}}\\end{matrix}\\right]$"
      ],
      "text/plain": [
       "⎡       -8⋅M                                                ⎤\n",
       "⎢────────────────────          0                  0         ⎥\n",
       "⎢   2          2    3                                       ⎥\n",
       "⎢4⋅M ⋅r + 4⋅M⋅r  + r                                        ⎥\n",
       "⎢                                                           ⎥\n",
       "⎢                            4⋅M⋅r                          ⎥\n",
       "⎢         0            ─────────────────          0         ⎥\n",
       "⎢                         2            2                    ⎥\n",
       "⎢                      4⋅M  + 4⋅M⋅r + r                     ⎥\n",
       "⎢                                                           ⎥\n",
       "⎢                                                  2        ⎥\n",
       "⎢                                         4⋅M⋅r⋅sin (\\theta)⎥\n",
       "⎢         0                    0          ──────────────────⎥\n",
       "⎢                                            2            2 ⎥\n",
       "⎣                                         4⋅M  + 4⋅M⋅r + r  ⎦"
      ]
     },
     "execution_count": 12,
     "metadata": {},
     "output_type": "execute_result"
    }
   ],
   "source": [
    "conf_ricci.replace(psi, lambda r: 1 + 2 * M /r).applyfunc(simplify).applyfunc(cancel)"
   ]
  },
  {
   "cell_type": "code",
   "execution_count": 13,
   "metadata": {},
   "outputs": [
    {
     "data": {
      "image/png": "[encoded data removed]",
      "text/latex": [
       "$\\displaystyle 0$"
      ],
      "text/plain": [
       "0"
      ]
     },
     "execution_count": 13,
     "metadata": {},
     "output_type": "execute_result"
    }
   ],
   "source": [
    "conf_ricci_scalar.replace(psi, lambda r: 1 + 2 * M /r).simplify().cancel()"
   ]
  },
  {
   "cell_type": "markdown",
   "metadata": {},
   "source": [
    "### Painlevé–Gullstrand "
   ]
  },
  {
   "cell_type": "code",
   "execution_count": 14,
   "metadata": {},
   "outputs": [
    {
     "data": {
      "image/png": "[encoded data removed]",
      "text/latex": [
       "$\\displaystyle \\left[\\begin{matrix}\\frac{2 M}{r} - 1 & \\sqrt{2} \\sqrt{\\frac{M}{r}} & 0 & 0\\\\\\sqrt{2} \\sqrt{\\frac{M}{r}} & 1 & 0 & 0\\\\0 & 0 & r^{2} & 0\\\\0 & 0 & 0 & r^{2} \\sin^{2}{\\left(\\theta \\right)}\\end{matrix}\\right]$"
      ],
      "text/plain": [
       "⎡                   ___                     ⎤\n",
       "⎢ 2⋅M              ╱ M                      ⎥\n",
       "⎢ ─── - 1    √2⋅  ╱  ─   0          0       ⎥\n",
       "⎢  r            ╲╱   r                      ⎥\n",
       "⎢                                           ⎥\n",
       "⎢       ___                                 ⎥\n",
       "⎢      ╱ M                                  ⎥\n",
       "⎢√2⋅  ╱  ─       1       0          0       ⎥\n",
       "⎢   ╲╱   r                                  ⎥\n",
       "⎢                                           ⎥\n",
       "⎢                         2                 ⎥\n",
       "⎢    0           0       r          0       ⎥\n",
       "⎢                                           ⎥\n",
       "⎢                             2    2        ⎥\n",
       "⎣    0           0       0   r ⋅sin (\\theta)⎦"
      ]
     },
     "execution_count": 14,
     "metadata": {},
     "output_type": "execute_result"
    }
   ],
   "source": [
    "pg_metric_full = Matrix([\n",
    "    [-1 + 2 * M / r,sqrt(2 * M / r), 0, 0 ],\n",
    "    [sqrt(2 * M / r), 1, 0, 0], [ 0, 0, r ** 2, 0],\n",
    "    [ 0, 0, 0, r ** 2 * sin(theta) ** 2]\n",
    "])\n",
    "pg_metric_full"
   ]
  },
  {
   "cell_type": "code",
   "execution_count": 15,
   "metadata": {},
   "outputs": [],
   "source": [
    "# Compute covariant derivative of rank-0 tensor\n",
    "def compute_diff_scalar(s, christoffel):\n",
    "    if len(christoffel) != 3:\n",
    "        raise Exception('Invalid dimensions')\n",
    "\n",
    "    return Matrix([ diff(s, x) for x in coords ]).applyfunc(simplify)\n",
    "\n",
    "# Compute covariant derivative of rank-1 covariant tensor\n",
    "def compute_diff_vec_lo(t, christoffel):\n",
    "    if len(t) != 3 or len(christoffel) != 3:\n",
    "        raise Exception('Invalid dimensions')\n",
    "\n",
    "    rows = []\n",
    "    for i in range(0, 3):\n",
    "        row = []\n",
    "        for j in range(0, 3):\n",
    "            res = diff(t[i], coords[j])\n",
    "            for k in range(0, 3):\n",
    "                res -= christoffel[k][i, j] * t[k]\n",
    "            row.append(res)\n",
    "        rows.append(row)\n",
    "    return Matrix(rows).applyfunc(simplify)\n",
    "\n",
    "# Compute covariant derivative of rank-2 covariant tensor\n",
    "def compute_diff_matrix_lo(m, christoffel):\n",
    "    if m.shape != (3, 3) or len(christoffel) != 3:\n",
    "        raise Exception('Invalid dimensions')\n",
    "\n",
    "    out = []\n",
    "    for i in range(0, 3):\n",
    "        rows = []\n",
    "        for j in range(0, 3):\n",
    "            row = []\n",
    "            for k in range(0, 3):\n",
    "                res = diff(m[j, k], coords[i])\n",
    "                for l in range(0, 3):\n",
    "                    res -= christoffel[l][i, j] * m[l, k]\n",
    "                    res -= christoffel[l][i, k] * m[j, l]\n",
    "                row.append(res)\n",
    "            rows.append(row)\n",
    "        out.append(Matrix(rows).applyfunc(simplify))\n",
    "    return out\n",
    "\n",
    "# Compute lapse, shift, and K\n",
    "def compute_factors(metric_full):\n",
    "    metric_spat = metric_full[1:, 1:]\n",
    "    inv_metric_full = metric_full.inv()\n",
    "    \n",
    "    alpha = (1 / sqrt(-inv_metric_full[0, 0].simplify())).simplify()\n",
    "    beta_hi = (inv_metric_full[0, 1:] * (alpha ** 2)).applyfunc(simplify)\n",
    "    beta_lo = metric_full[0, 1:]\n",
    "    \n",
    "    inv_metric_spat = inv_metric_full[1:, 1:] + (1 / alpha ** 2) * Matrix([\n",
    "        [ beta_hi[i] * beta_hi[j] for i in range(0, 3) ]\n",
    "        for j in range(0, 3)\n",
    "    ])\n",
    "    christoffel = compute_christoffel(metric_spat)\n",
    "    \n",
    "    diff_beta_lo = compute_diff_vec_lo(beta_lo, christoffel)\n",
    "    K_lo = Matrix([\n",
    "        [ diff_beta_lo[i, j] + diff_beta_lo[j, i] for j in range(0, 3) ]\n",
    "        for i in range(0, 3)\n",
    "    ])\n",
    "    K_lo /= (2 * alpha)\n",
    "    K_lo = K_lo.applyfunc(simplify)\n",
    "    \n",
    "    K_hi = inv_metric_spat * K_lo * inv_metric_spat.T\n",
    "    \n",
    "    KK = Trace(K_lo * K_hi)\n",
    "    K = Trace(K_lo * inv_metric_spat).simplify()\n",
    "    \n",
    "    ricci = compute_ricci(christoffel)\n",
    "    R = Trace(ricci * inv_metric_spat).simplify()\n",
    "\n",
    "    return {\n",
    "        'alpha': alpha,\n",
    "        'beta_hi': beta_hi,\n",
    "        'beta_lo': beta_lo,\n",
    "        'K_lo': K_lo,\n",
    "        'K_hi': K_hi,\n",
    "        'KK': KK.simplify(),\n",
    "        'K': K,\n",
    "        \n",
    "        'christoffel': christoffel,\n",
    "        \n",
    "        'metric_spat': metric_spat,\n",
    "        'inv_metric_spat': inv_metric_spat.applyfunc(simplify),\n",
    "        \n",
    "        'ricci': ricci,\n",
    "        'R': R,\n",
    "    }"
   ]
  },
  {
   "cell_type": "code",
   "execution_count": 16,
   "metadata": {},
   "outputs": [],
   "source": [
    "pg_factors = compute_factors(pg_metric_full)"
   ]
  },
  {
   "cell_type": "code",
   "execution_count": 17,
   "metadata": {},
   "outputs": [
    {
     "data": {
      "image/png": "[encoded data removed]",
      "text/latex": [
       "$\\displaystyle \\left( 1, \\  \\left[\\begin{matrix}\\sqrt{2} \\sqrt{\\frac{M}{r}} & 0 & 0\\end{matrix}\\right], \\  \\left[\\begin{matrix}\\sqrt{2} \\sqrt{\\frac{M}{r}} & 0 & 0\\end{matrix}\\right]\\right)$"
      ],
      "text/plain": [
       "⎛   ⎡       ___      ⎤  ⎡       ___      ⎤⎞\n",
       "⎜   ⎢      ╱ M       ⎥  ⎢      ╱ M       ⎥⎟\n",
       "⎜1, ⎢√2⋅  ╱  ─   0  0⎥, ⎢√2⋅  ╱  ─   0  0⎥⎟\n",
       "⎝   ⎣   ╲╱   r       ⎦  ⎣   ╲╱   r       ⎦⎠"
      ]
     },
     "execution_count": 17,
     "metadata": {},
     "output_type": "execute_result"
    }
   ],
   "source": [
    "pg_factors['alpha'], pg_factors['beta_lo'], pg_factors['beta_hi']"
   ]
  },
  {
   "cell_type": "code",
   "execution_count": 18,
   "metadata": {},
   "outputs": [
    {
     "data": {
      "image/png": "[encoded data removed]",
      "text/latex": [
       "$\\displaystyle \\left( \\left[\\begin{matrix}0 & 0 & 0\\\\0 & 0 & 0\\\\0 & 0 & 0\\end{matrix}\\right], \\  0\\right)$"
      ],
      "text/plain": [
       "⎛⎡0  0  0⎤   ⎞\n",
       "⎜⎢       ⎥   ⎟\n",
       "⎜⎢0  0  0⎥, 0⎟\n",
       "⎜⎢       ⎥   ⎟\n",
       "⎝⎣0  0  0⎦   ⎠"
      ]
     },
     "execution_count": 18,
     "metadata": {},
     "output_type": "execute_result"
    }
   ],
   "source": [
    "pg_factors['ricci'].applyfunc(simplify), pg_factors['R']"
   ]
  },
  {
   "cell_type": "code",
   "execution_count": 19,
   "metadata": {},
   "outputs": [
    {
     "data": {
      "image/png": "[encoded data removed]",
      "text/latex": [
       "$\\displaystyle \\left[ \\left[\\begin{matrix}0 & 0 & 0\\\\0 & - r & 0\\\\0 & 0 & - r \\sin^{2}{\\left(\\theta \\right)}\\end{matrix}\\right], \\  \\left[\\begin{matrix}0 & \\frac{1}{r} & 0\\\\\\frac{1}{r} & 0 & 0\\\\0 & 0 & - \\sin{\\left(\\theta \\right)} \\cos{\\left(\\theta \\right)}\\end{matrix}\\right], \\  \\left[\\begin{matrix}0 & 0 & \\frac{1}{r}\\\\0 & 0 & \\frac{\\cos{\\left(\\theta \\right)}}{\\sin{\\left(\\theta \\right)}}\\\\\\frac{1}{r} & \\frac{\\cos{\\left(\\theta \\right)}}{\\sin{\\left(\\theta \\right)}} & 0\\end{matrix}\\right]\\right]$"
      ],
      "text/plain": [
       "⎡                                                            ⎡                \n",
       "⎢                          ⎡   1                          ⎤  ⎢0       0       \n",
       "⎢⎡0  0          0       ⎤  ⎢0  ─             0            ⎥  ⎢                \n",
       "⎢⎢                      ⎥  ⎢   r                          ⎥  ⎢                \n",
       "⎢⎢0  -r         0       ⎥  ⎢                              ⎥  ⎢                \n",
       "⎢⎢                      ⎥, ⎢1                             ⎥, ⎢0       0       \n",
       "⎢⎢             2        ⎥  ⎢─  0             0            ⎥  ⎢                \n",
       "⎢⎣0  0   -r⋅sin (\\theta)⎦  ⎢r                             ⎥  ⎢                \n",
       "⎢                          ⎢                              ⎥  ⎢1  cos(\\theta)  \n",
       "⎢                          ⎣0  0  -sin(\\theta)⋅cos(\\theta)⎦  ⎢─  ───────────  \n",
       "⎣                                                            ⎣r  sin(\\theta)  \n",
       "\n",
       "     1     ⎤⎤\n",
       "     ─     ⎥⎥\n",
       "     r     ⎥⎥\n",
       "           ⎥⎥\n",
       "cos(\\theta)⎥⎥\n",
       "───────────⎥⎥\n",
       "sin(\\theta)⎥⎥\n",
       "           ⎥⎥\n",
       "           ⎥⎥\n",
       "     0     ⎥⎥\n",
       "           ⎦⎦"
      ]
     },
     "execution_count": 19,
     "metadata": {},
     "output_type": "execute_result"
    }
   ],
   "source": [
    "pg_factors['christoffel']"
   ]
  },
  {
   "cell_type": "code",
   "execution_count": 20,
   "metadata": {},
   "outputs": [
    {
     "data": {
      "image/png": "[encoded data removed]",
      "text/latex": [
       "$\\displaystyle \\left( \\left[\\begin{matrix}- \\frac{\\sqrt{2} \\sqrt{\\frac{M}{r}}}{2 r} & 0 & 0\\\\0 & \\sqrt{2} r \\sqrt{\\frac{M}{r}} & 0\\\\0 & 0 & \\sqrt{2} r \\sqrt{\\frac{M}{r}} \\sin^{2}{\\left(\\theta \\right)}\\end{matrix}\\right], \\  \\frac{3 \\sqrt{2} \\sqrt{\\frac{M}{r}}}{2 r}\\right)$"
      ],
      "text/plain": [
       "⎛⎡        ___                                          ⎤              ⎞\n",
       "⎜⎢       ╱ M                                           ⎥              ⎟\n",
       "⎜⎢-√2⋅  ╱  ─                                           ⎥              ⎟\n",
       "⎜⎢    ╲╱   r                                           ⎥              ⎟\n",
       "⎜⎢────────────       0                    0            ⎥           ___⎟\n",
       "⎜⎢    2⋅r                                              ⎥          ╱ M ⎟\n",
       "⎜⎢                                                     ⎥  3⋅√2⋅  ╱  ─ ⎟\n",
       "⎜⎢                       ___                           ⎥       ╲╱   r ⎟\n",
       "⎜⎢                      ╱ M                            ⎥, ────────────⎟\n",
       "⎜⎢     0        √2⋅r⋅  ╱  ─               0            ⎥      2⋅r     ⎟\n",
       "⎜⎢                   ╲╱   r                            ⎥              ⎟\n",
       "⎜⎢                                                     ⎥              ⎟\n",
       "⎜⎢                                     ___             ⎥              ⎟\n",
       "⎜⎢                                    ╱ M     2        ⎥              ⎟\n",
       "⎜⎢     0             0        √2⋅r⋅  ╱  ─ ⋅sin (\\theta)⎥              ⎟\n",
       "⎝⎣                                 ╲╱   r              ⎦              ⎠"
      ]
     },
     "execution_count": 20,
     "metadata": {},
     "output_type": "execute_result"
    }
   ],
   "source": [
    "pg_factors['K_lo'], pg_factors['K']"
   ]
  },
  {
   "cell_type": "code",
   "execution_count": 21,
   "metadata": {},
   "outputs": [],
   "source": [
    "def compute_ham_constraint(factors):\n",
    "    return factors['R'] + factors['K'] ** 2 - factors['KK']"
   ]
  },
  {
   "cell_type": "code",
   "execution_count": 22,
   "metadata": {},
   "outputs": [],
   "source": [
    "def compute_mom_constraint(factors):\n",
    "    dK_lo = compute_diff_matrix_lo(factors['K_lo'], factors['christoffel'])\n",
    "    # Contract\n",
    "    t = []\n",
    "    for i in range(0, 3):\n",
    "        res = 0\n",
    "        for j in range(0, 3):\n",
    "            for k in range(0, 3):\n",
    "                res += factors['inv_metric_spat'][j, k] * dK_lo[j][i, k]\n",
    "        t.append(res.simplify() - diff(factors['K'], coords[i]))\n",
    "    return t"
   ]
  },
  {
   "cell_type": "code",
   "execution_count": 23,
   "metadata": {},
   "outputs": [],
   "source": [
    "def compute_K_evolution(factors):\n",
    "    christoffel = factors['christoffel']\n",
    "    \n",
    "    t1 = -compute_diff_vec_lo(compute_diff_scalar(factors['alpha'], christoffel), christoffel)\n",
    "    \n",
    "    t2 = factors['alpha'] * (\n",
    "        factors['ricci'] -\n",
    "        2 * factors['K_lo'] * factors['K_hi'] * factors['inv_metric_spat'] +\n",
    "        factors['K'] * factors['K_lo']\n",
    "    )\n",
    "    \n",
    "    dK_lo = compute_diff_matrix_lo(factors['K_lo'], factors['christoffel'])\n",
    "    dbeta_lo = compute_diff_vec_lo(factors['beta_lo'], factors['christoffel'])\n",
    "    \n",
    "    t3 = zeros(3, 3)\n",
    "    for i in range(0, 3):\n",
    "        t3 += factors['beta_hi'][i] * dK_lo[i]\n",
    "        \n",
    "    t4 = dbeta_lo * factors['K_hi'] * factors['inv_metric_spat']\n",
    "    t5 = t4.T\n",
    "    \n",
    "    t1 = t1.applyfunc(simplify)\n",
    "    t2 = t2.applyfunc(simplify)\n",
    "    t3 = t3.applyfunc(simplify)\n",
    "    t4 = t4.applyfunc(simplify)\n",
    "    t5 = t5.applyfunc(simplify)\n",
    "    \n",
    "    return (t1 + t2 + t3 + t4 + t5).applyfunc(simplify)"
   ]
  },
  {
   "cell_type": "code",
   "execution_count": 24,
   "metadata": {},
   "outputs": [
    {
     "data": {
      "image/png": "[encoded data removed]",
      "text/latex": [
       "$\\displaystyle 0$"
      ],
      "text/plain": [
       "0"
      ]
     },
     "execution_count": 24,
     "metadata": {},
     "output_type": "execute_result"
    }
   ],
   "source": [
    "compute_ham_constraint(pg_factors)"
   ]
  },
  {
   "cell_type": "code",
   "execution_count": 25,
   "metadata": {},
   "outputs": [
    {
     "data": {
      "image/png": "[encoded data removed]",
      "text/latex": [
       "$\\displaystyle \\left[ 0, \\  0, \\  0\\right]$"
      ],
      "text/plain": [
       "[0, 0, 0]"
      ]
     },
     "execution_count": 25,
     "metadata": {},
     "output_type": "execute_result"
    }
   ],
   "source": [
    "compute_mom_constraint(pg_factors)"
   ]
  },
  {
   "cell_type": "code",
   "execution_count": 26,
   "metadata": {},
   "outputs": [
    {
     "data": {
      "image/png": "[encoded data removed]",
      "text/latex": [
       "$\\displaystyle \\left[\\begin{matrix}0 & 0 & 0\\\\0 & 0 & 0\\\\0 & 0 & 0\\end{matrix}\\right]$"
      ],
      "text/plain": [
       "⎡0  0  0⎤\n",
       "⎢       ⎥\n",
       "⎢0  0  0⎥\n",
       "⎢       ⎥\n",
       "⎣0  0  0⎦"
      ]
     },
     "execution_count": 26,
     "metadata": {},
     "output_type": "execute_result"
    }
   ],
   "source": [
    "compute_K_evolution(pg_factors)"
   ]
  },
  {
   "cell_type": "markdown",
   "metadata": {},
   "source": [
    "## Problem 2.33\n",
    "### Kerr-Schild"
   ]
  },
  {
   "cell_type": "code",
   "execution_count": 53,
   "metadata": {},
   "outputs": [
    {
     "data": {
      "image/png": "[encoded data removed]",
      "text/latex": [
       "$\\displaystyle \\left( \\left[\\begin{matrix}\\frac{2 M}{r} - 1 & \\frac{2 M}{r} & 0 & 0\\\\\\frac{2 M}{r} & \\frac{2 M}{r} + 1 & 0 & 0\\\\0 & 0 & r^{2} & 0\\\\0 & 0 & 0 & r^{2} \\sin^{2}{\\left(\\theta \\right)}\\end{matrix}\\right], \\  - r^{4} \\sin^{2}{\\left(\\theta \\right)}\\right)$"
      ],
      "text/plain": [
       "⎛⎡2⋅M        2⋅M                       ⎤                  ⎞\n",
       "⎜⎢─── - 1    ───    0          0       ⎥                  ⎟\n",
       "⎜⎢ r          r                        ⎥                  ⎟\n",
       "⎜⎢                                     ⎥                  ⎟\n",
       "⎜⎢  2⋅M    2⋅M                         ⎥                  ⎟\n",
       "⎜⎢  ───    ─── + 1  0          0       ⎥    4    2        ⎟\n",
       "⎜⎢   r      r                          ⎥, -r ⋅sin (\\theta)⎟\n",
       "⎜⎢                                     ⎥                  ⎟\n",
       "⎜⎢                   2                 ⎥                  ⎟\n",
       "⎜⎢   0        0     r          0       ⎥                  ⎟\n",
       "⎜⎢                                     ⎥                  ⎟\n",
       "⎜⎢                       2    2        ⎥                  ⎟\n",
       "⎝⎣   0        0     0   r ⋅sin (\\theta)⎦                  ⎠"
      ]
     },
     "execution_count": 53,
     "metadata": {},
     "output_type": "execute_result"
    }
   ],
   "source": [
    "x, y, z = symbols('x, y, z')\n",
    "l_lo = Matrix([ 1, 1, 0, 0 ])\n",
    "flat_metric = Matrix([\n",
    "    [ -1, 0, 0, 0 ],\n",
    "    [ 0, 1, 0, 0 ],\n",
    "    [ 0, 0, r ** 2, 0 ],\n",
    "    [ 0, 0, 0, r ** 2 * sin(theta) ** 2 ]\n",
    "])\n",
    "ks_metric = flat_metric + 2 * M /r * l_lo * l_lo.T\n",
    "ks_metric, ks_metric.det().simplify()"
   ]
  },
  {
   "cell_type": "code",
   "execution_count": 28,
   "metadata": {},
   "outputs": [],
   "source": [
    "ks_factors = compute_factors(ks_metric)\n",
    "ks_alpha = ks_factors['alpha']"
   ]
  },
  {
   "cell_type": "code",
   "execution_count": 29,
   "metadata": {},
   "outputs": [
    {
     "data": {
      "image/png": "[encoded data removed]",
      "text/latex": [
       "$\\displaystyle \\left( \\frac{1}{\\sqrt{\\frac{2 M + r}{r}}}, \\  \\left[\\begin{matrix}\\frac{2 M}{2 M + r} & 0 & 0\\end{matrix}\\right], \\  \\left[\\begin{matrix}- \\frac{2 M \\sqrt{\\frac{2 M + r}{r}} \\left(M + r\\right)}{r^{2} \\left(2 M + r\\right)} & 0 & 0\\\\0 & \\frac{2 M r \\sqrt{\\frac{2 M + r}{r}}}{2 M + r} & 0\\\\0 & 0 & \\frac{2 M r \\sqrt{\\frac{2 M + r}{r}} \\sin^{2}{\\left(\\theta \\right)}}{2 M + r}\\end{matrix}\\right], \\  - \\frac{2 M \\sqrt{\\frac{2 M + r}{r}} \\left(M + r\\right)}{r \\left(4 M^{2} + 4 M r + r^{2}\\right)} + \\frac{4 M \\sqrt{\\frac{2 M + r}{r}}}{r \\left(2 M + r\\right)}\\right)$"
      ],
      "text/plain": [
       "⎛                                ⎡         _________                          \n",
       "⎜                                ⎢        ╱ 2⋅M + r                           \n",
       "⎜                                ⎢-2⋅M⋅  ╱  ─────── ⋅(M + r)                  \n",
       "⎜                                ⎢     ╲╱      r                              \n",
       "⎜                                ⎢───────────────────────────           0     \n",
       "⎜                                ⎢         2                                  \n",
       "⎜                                ⎢        r ⋅(2⋅M + r)                        \n",
       "⎜                                ⎢                                            \n",
       "⎜                                ⎢                                       _____\n",
       "⎜      1        ⎡  2⋅M        ⎤  ⎢                                      ╱ 2⋅M \n",
       "⎜─────────────, ⎢───────  0  0⎥, ⎢                             2⋅M⋅r⋅  ╱  ────\n",
       "⎜    _________  ⎣2⋅M + r      ⎦  ⎢                                   ╲╱      r\n",
       "⎜   ╱ 2⋅M + r                    ⎢             0               ───────────────\n",
       "⎜  ╱  ───────                    ⎢                                   2⋅M + r  \n",
       "⎜╲╱      r                       ⎢                                            \n",
       "⎜                                ⎢                                            \n",
       "⎜                                ⎢                                            \n",
       "⎜                                ⎢                                            \n",
       "⎜                                ⎢                                            \n",
       "⎜                                ⎢             0                        0     \n",
       "⎝                                ⎣                                            \n",
       "\n",
       "                                      ⎤                                       \n",
       "                                      ⎥                                       \n",
       "                                      ⎥                                       \n",
       "                                      ⎥                                       \n",
       "                     0                ⎥                                       \n",
       "                                      ⎥                                       \n",
       "                                      ⎥            _________                  \n",
       "                                      ⎥           ╱ 2⋅M + r                   \n",
       "____                                  ⎥    2⋅M⋅  ╱  ─────── ⋅(M + r)   4⋅M⋅  ╱\n",
       "+ r                                   ⎥        ╲╱      r                   ╲╱ \n",
       "───                                   ⎥, - ───────────────────────── + ───────\n",
       "                                      ⎥        ⎛   2            2⎞        r⋅(2\n",
       "────                 0                ⎥      r⋅⎝4⋅M  + 4⋅M⋅r + r ⎠            \n",
       "                                      ⎥                                       \n",
       "                                      ⎥                                       \n",
       "                _________             ⎥                                       \n",
       "               ╱ 2⋅M + r     2        ⎥                                       \n",
       "      2⋅M⋅r⋅  ╱  ─────── ⋅sin (\\theta)⎥                                       \n",
       "            ╲╱      r                 ⎥                                       \n",
       "      ────────────────────────────────⎥                                       \n",
       "                  2⋅M + r             ⎦                                       \n",
       "\n",
       "          ⎞\n",
       "          ⎟\n",
       "          ⎟\n",
       "          ⎟\n",
       "          ⎟\n",
       "          ⎟\n",
       " _________⎟\n",
       "╱ 2⋅M + r ⎟\n",
       "  ─────── ⎟\n",
       "     r    ⎟\n",
       "──────────⎟\n",
       "⋅M + r)   ⎟\n",
       "          ⎟\n",
       "          ⎟\n",
       "          ⎟\n",
       "          ⎟\n",
       "          ⎟\n",
       "          ⎟\n",
       "          ⎟\n",
       "          ⎟\n",
       "          ⎠"
      ]
     },
     "execution_count": 29,
     "metadata": {},
     "output_type": "execute_result"
    }
   ],
   "source": [
    "(\n",
    "    ks_alpha.simplify(),\n",
    "    ks_factors['beta_hi'].expand(),\n",
    "    ks_factors['K_lo'],\n",
    "    ks_factors['K']\n",
    ")"
   ]
  },
  {
   "cell_type": "code",
   "execution_count": 31,
   "metadata": {},
   "outputs": [
    {
     "data": {
      "image/png": "[encoded data removed]",
      "text/latex": [
       "$\\displaystyle \\frac{3 M + r}{r}$"
      ],
      "text/plain": [
       "3⋅M + r\n",
       "───────\n",
       "   r   "
      ]
     },
     "execution_count": 31,
     "metadata": {},
     "output_type": "execute_result"
    }
   ],
   "source": [
    "(ks_factors['K'] / (2 * M * ks_alpha ** 3) * r ** 2).simplify()"
   ]
  },
  {
   "cell_type": "code",
   "execution_count": 33,
   "metadata": {},
   "outputs": [
    {
     "data": {
      "image/png": "[encoded data removed]",
      "text/latex": [
       "$\\displaystyle \\left[\\begin{matrix}0 & 0 & 0\\\\0 & 0 & 0\\\\0 & 0 & 0\\end{matrix}\\right]$"
      ],
      "text/plain": [
       "⎡0  0  0⎤\n",
       "⎢       ⎥\n",
       "⎢0  0  0⎥\n",
       "⎢       ⎥\n",
       "⎣0  0  0⎦"
      ]
     },
     "execution_count": 33,
     "metadata": {},
     "output_type": "execute_result"
    }
   ],
   "source": [
    "((ks_factors['K_lo'] / (2 * M * ks_alpha) * r ** 2) -\n",
    " flat_metric[1:, 1:] +\n",
    " (2 + M / r) * (Matrix(l_lo[1:]) * Matrix(l_lo[1:]).T)).applyfunc(simplify)"
   ]
  },
  {
   "cell_type": "markdown",
   "metadata": {},
   "source": [
    "## Problem 2.34\n",
    "### Boyer-Lindquist"
   ]
  },
  {
   "cell_type": "code",
   "execution_count": 47,
   "metadata": {},
   "outputs": [
    {
     "data": {
      "image/png": "[encoded data removed]",
      "text/latex": [
       "$\\displaystyle \\left[\\begin{matrix}\\frac{2 M r}{\\rho^{2}} - 1 & 0 & 0 & - \\frac{2 M a r \\sin^{2}{\\left(\\theta \\right)}}{\\rho^{2}}\\\\0 & \\frac{\\rho^{2}}{\\Delta} & 0 & 0\\\\0 & 0 & \\rho^{2} & 0\\\\- \\frac{2 M a r \\sin^{2}{\\left(\\theta \\right)}}{\\rho^{2}} & 0 & 0 & \\frac{\\left(- \\Delta a^{2} \\sin^{2}{\\left(\\theta \\right)} + \\left(a^{2} + r^{2}\\right)^{2}\\right) \\sin^{2}{\\left(\\theta \\right)}}{\\rho^{2}}\\end{matrix}\\right]$"
      ],
      "text/plain": [
       "⎡                                                                  2          \n",
       "⎢      2⋅M⋅r                                           -2⋅M⋅a⋅r⋅sin (\\theta)  \n",
       "⎢      ───── - 1           0       0                   ────────────────────── \n",
       "⎢          2                                                       2          \n",
       "⎢      \\rho                                                    \\rho           \n",
       "⎢                                                                             \n",
       "⎢                            2                                                \n",
       "⎢                        \\rho                                                 \n",
       "⎢          0             ──────    0                             0            \n",
       "⎢                        \\Delta                                               \n",
       "⎢                                                                             \n",
       "⎢                                    2                                        \n",
       "⎢          0               0     \\rho                            0            \n",
       "⎢                                                                             \n",
       "⎢                                       ⎛                                    2\n",
       "⎢            2                          ⎜          2    2           ⎛ 2    2⎞ \n",
       "⎢-2⋅M⋅a⋅r⋅sin (\\theta)                  ⎝- \\Delta⋅a ⋅sin (\\theta) + ⎝a  + r ⎠ \n",
       "⎢──────────────────────    0       0    ──────────────────────────────────────\n",
       "⎢            2                                                     2          \n",
       "⎣        \\rho                                                  \\rho           \n",
       "\n",
       "              ⎤\n",
       "              ⎥\n",
       "              ⎥\n",
       "              ⎥\n",
       "              ⎥\n",
       "              ⎥\n",
       "              ⎥\n",
       "              ⎥\n",
       "              ⎥\n",
       "              ⎥\n",
       "              ⎥\n",
       "              ⎥\n",
       "              ⎥\n",
       "              ⎥\n",
       "⎞             ⎥\n",
       "⎟    2        ⎥\n",
       "⎠⋅sin (\\theta)⎥\n",
       "──────────────⎥\n",
       "              ⎥\n",
       "              ⎦"
      ]
     },
     "execution_count": 47,
     "metadata": {},
     "output_type": "execute_result"
    }
   ],
   "source": [
    "a, Delta, rho = symbols('a, \\Delta, \\\\rho')\n",
    "bl_Delta = r ** 2 - 2 * M * r + bl_a ** 2\n",
    "bl_rho = sqrt(r ** 2 + a ** 2 * cos(theta) ** 2)\n",
    "\n",
    "bl_metric_sym = Matrix([\n",
    "    [ -(1 - 2 * M * r / rho ** 2), 0, 0, -2 * M * a * r * sin(theta) ** 2 / rho ** 2 ],\n",
    "    [ 0, rho ** 2 / Delta, 0, 0 ],\n",
    "    [ 0, 0, rho ** 2, 0 ],\n",
    "    [ -2 * M * a * r * sin(theta) ** 2 / rho ** 2, 0, 0, sin(theta) ** 2 / rho ** 2 * ( (r ** 2 + a ** 2 ) ** 2 - a ** 2 * Delta * sin(theta) ** 2 )]\n",
    "])\n",
    "bl_metric_sym"
   ]
  },
  {
   "cell_type": "code",
   "execution_count": 112,
   "metadata": {},
   "outputs": [
    {
     "data": {
      "image/png": "[encoded data removed]",
      "text/latex": [
       "$\\displaystyle \\left[\\begin{matrix}\\frac{2 M - r}{r} & 0 & 0 & - \\frac{2 M a}{r}\\\\0 & \\frac{r^{2}}{- 2 M r + a^{2} + r^{2}} & 0 & 0\\\\0 & 0 & r^{2} & 0\\\\- \\frac{2 M a}{r} & 0 & 0 & \\frac{2 M a^{2}}{r} + a^{2} + r^{2}\\end{matrix}\\right]$"
      ],
      "text/plain": [
       "⎡2⋅M - r                            -2⋅M⋅a      ⎤\n",
       "⎢───────         0          0       ───────     ⎥\n",
       "⎢   r                                  r        ⎥\n",
       "⎢                                               ⎥\n",
       "⎢                 2                             ⎥\n",
       "⎢                r                              ⎥\n",
       "⎢   0     ────────────────  0          0        ⎥\n",
       "⎢                   2    2                      ⎥\n",
       "⎢         -2⋅M⋅r + a  + r                       ⎥\n",
       "⎢                                               ⎥\n",
       "⎢                            2                  ⎥\n",
       "⎢   0            0          r          0        ⎥\n",
       "⎢                                               ⎥\n",
       "⎢                                    2          ⎥\n",
       "⎢-2⋅M⋅a                         2⋅M⋅a     2    2⎥\n",
       "⎢───────         0          0   ────── + a  + r ⎥\n",
       "⎣   r                             r             ⎦"
      ]
     },
     "execution_count": 112,
     "metadata": {},
     "output_type": "execute_result"
    }
   ],
   "source": [
    "bl_metric = bl_metric_sym.subs({ Delta: bl_Delta, rho: bl_rho }).applyfunc(simplify).subs({ theta: pi / 2 }).applyfunc(simplify)\n",
    "bl_metric"
   ]
  },
  {
   "cell_type": "code",
   "execution_count": 113,
   "metadata": {},
   "outputs": [],
   "source": [
    "bl_metric_inv = bl_metric.inv().applyfunc(simplify)"
   ]
  },
  {
   "cell_type": "code",
   "execution_count": 114,
   "metadata": {},
   "outputs": [
    {
     "data": {
      "image/png": "[encoded data removed]",
      "text/latex": [
       "$\\displaystyle \\left[\\begin{matrix}- \\frac{2 M a^{2} + a^{2} r + r^{3}}{r \\left(- 2 M r + a^{2} + r^{2}\\right)} & 0 & 0 & - \\frac{2 M a}{r \\left(- 2 M r + a^{2} + r^{2}\\right)}\\\\0 & - \\frac{2 M}{r} + \\frac{a^{2}}{r^{2}} + 1 & 0 & 0\\\\0 & 0 & \\frac{1}{r^{2}} & 0\\\\- \\frac{2 M a}{r \\left(- 2 M r + a^{2} + r^{2}\\right)} & 0 & 0 & \\frac{- 2 M + r}{r \\left(- 2 M r + a^{2} + r^{2}\\right)}\\end{matrix}\\right]$"
      ],
      "text/plain": [
       "⎡ ⎛     2    2      3⎞                                           ⎤\n",
       "⎢-⎝2⋅M⋅a  + a ⋅r + r ⎠                             -2⋅M⋅a        ⎥\n",
       "⎢──────────────────────        0         0   ────────────────────⎥\n",
       "⎢   ⎛          2    2⎞                         ⎛          2    2⎞⎥\n",
       "⎢ r⋅⎝-2⋅M⋅r + a  + r ⎠                       r⋅⎝-2⋅M⋅r + a  + r ⎠⎥\n",
       "⎢                                                                ⎥\n",
       "⎢                                 2                              ⎥\n",
       "⎢                          2⋅M   a                               ⎥\n",
       "⎢          0             - ─── + ── + 1  0            0          ⎥\n",
       "⎢                           r     2                              ⎥\n",
       "⎢                                r                               ⎥\n",
       "⎢                                                                ⎥\n",
       "⎢                                        1                       ⎥\n",
       "⎢          0                   0         ──           0          ⎥\n",
       "⎢                                         2                      ⎥\n",
       "⎢                                        r                       ⎥\n",
       "⎢                                                                ⎥\n",
       "⎢       -2⋅M⋅a                                     -2⋅M + r      ⎥\n",
       "⎢ ────────────────────         0         0   ────────────────────⎥\n",
       "⎢   ⎛          2    2⎞                         ⎛          2    2⎞⎥\n",
       "⎣ r⋅⎝-2⋅M⋅r + a  + r ⎠                       r⋅⎝-2⋅M⋅r + a  + r ⎠⎦"
      ]
     },
     "execution_count": 114,
     "metadata": {},
     "output_type": "execute_result"
    }
   ],
   "source": [
    "bl_metric_inv.applyfunc(simplify)"
   ]
  },
  {
   "cell_type": "code",
   "execution_count": 115,
   "metadata": {},
   "outputs": [],
   "source": [
    "bl_factors = compute_factors(bl_metric)"
   ]
  },
  {
   "cell_type": "code",
   "execution_count": 116,
   "metadata": {},
   "outputs": [
    {
     "data": {
      "image/png": "[encoded data removed]",
      "text/latex": [
       "$\\displaystyle \\left( \\frac{1}{\\sqrt{\\frac{2 M a^{2} + a^{2} r + r^{3}}{r \\left(- 2 M r + a^{2} + r^{2}\\right)}}}, \\  \\left[\\begin{matrix}0 & 0 & - \\frac{2 M a}{r}\\end{matrix}\\right], \\  \\left[\\begin{matrix}0 & 0 & - \\frac{2 M a}{2 M a^{2} + a^{2} r + r^{3}}\\end{matrix}\\right], \\  \\frac{M a \\sqrt{\\frac{2 M a^{2} + a^{2} r + r^{3}}{r \\left(- 2 M r + a^{2} + r^{2}\\right)}} \\left(a^{2} + 3 r^{2}\\right)}{r \\left(2 M a^{2} + a^{2} r + r^{3}\\right)}\\right)$"
      ],
      "text/plain": [
       "⎛                                                                             \n",
       "⎜                                                                             \n",
       "⎜                                                                             \n",
       "⎜                                                                           M⋅\n",
       "⎜                                               ⎡           -2⋅M⋅a       ⎤    \n",
       "⎜             1                ⎡      -2⋅M⋅a ⎤  ⎢0  0  ──────────────────⎥    \n",
       "⎜────────────────────────────, ⎢0  0  ───────⎥, ⎢           2    2      3⎥, ──\n",
       "⎜      ______________________  ⎣         r   ⎦  ⎣      2⋅M⋅a  + a ⋅r + r ⎦    \n",
       "⎜     ╱       2    2      3                                                   \n",
       "⎜    ╱   2⋅M⋅a  + a ⋅r + r                                                    \n",
       "⎜   ╱   ────────────────────                                                  \n",
       "⎜  ╱      ⎛          2    2⎞                                                  \n",
       "⎝╲╱     r⋅⎝-2⋅M⋅r + a  + r ⎠                                                  \n",
       "\n",
       "        ______________________            ⎞\n",
       "       ╱       2    2      3              ⎟\n",
       "      ╱   2⋅M⋅a  + a ⋅r + r    ⎛ 2      2⎞⎟\n",
       "a⋅   ╱   ──────────────────── ⋅⎝a  + 3⋅r ⎠⎟\n",
       "    ╱      ⎛          2    2⎞             ⎟\n",
       "  ╲╱     r⋅⎝-2⋅M⋅r + a  + r ⎠             ⎟\n",
       "──────────────────────────────────────────⎟\n",
       "           ⎛     2    2      3⎞           ⎟\n",
       "         r⋅⎝2⋅M⋅a  + a ⋅r + r ⎠           ⎟\n",
       "                                          ⎟\n",
       "                                          ⎟\n",
       "                                          ⎟\n",
       "                                          ⎠"
      ]
     },
     "execution_count": 116,
     "metadata": {},
     "output_type": "execute_result"
    }
   ],
   "source": [
    "bl_factors['alpha'], bl_factors['beta_lo'], bl_factors['beta_hi'], bl_factors['K_lo'][0, 2]"
   ]
  },
  {
   "cell_type": "code",
   "execution_count": 117,
   "metadata": {},
   "outputs": [
    {
     "data": {
      "image/png": "[encoded data removed]",
      "text/latex": [
       "$\\displaystyle 0$"
      ],
      "text/plain": [
       "0"
      ]
     },
     "execution_count": 117,
     "metadata": {},
     "output_type": "execute_result"
    }
   ],
   "source": [
    "limit(bl_factors['K_lo'][0, 2], r, oo)"
   ]
  },
  {
   "cell_type": "code",
   "execution_count": null,
   "metadata": {},
   "outputs": [],
   "source": []
  }
 ],
 "metadata": {
  "kernelspec": {
   "display_name": "Python 3",
   "language": "python",
   "name": "python3"
  },
  "language_info": {
   "codemirror_mode": {
    "name": "ipython",
    "version": 3
   },
   "file_extension": ".py",
   "mimetype": "text/x-python",
   "name": "python",
   "nbconvert_exporter": "python",
   "pygments_lexer": "ipython3",
   "version": "3.7.7"
  }
 },
 "nbformat": 4,
 "nbformat_minor": 4
}
