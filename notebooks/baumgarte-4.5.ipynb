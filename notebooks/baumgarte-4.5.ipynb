{
 "cells": [
  {
   "cell_type": "markdown",
   "metadata": {},
   "source": [
    "# Baumgarte - Numerical Relativity\n",
    "## Problem 4.5"
   ]
  },
  {
   "cell_type": "code",
   "execution_count": 1,
   "metadata": {},
   "outputs": [],
   "source": [
    "from sympy import *\n",
    "init_printing(use_unicode=True)"
   ]
  },
  {
   "cell_type": "code",
   "execution_count": 2,
   "metadata": {},
   "outputs": [],
   "source": [
    "r, theta, phi = symbols('r, \\\\theta, \\phi')\n",
    "M = symbols('M')\n",
    "psi = Function(Symbol('\\psi', real=True))\n",
    "coords = [ r, theta, phi ]"
   ]
  },
  {
   "cell_type": "code",
   "execution_count": 7,
   "metadata": {},
   "outputs": [],
   "source": [
    "def compute_christoffel(metric):\n",
    "    if metric.shape != (3, 3):\n",
    "        raise Exception(\"Invalid dimensions\")\n",
    "\n",
    "    inv_metric = metric.inv()\n",
    "    \n",
    "    out = []\n",
    "    for i in range(0, 3):\n",
    "        rows = []\n",
    "        for j in range(0, 3):\n",
    "            row = []\n",
    "            for k in range(0, 3):\n",
    "                res = 0.0\n",
    "                for l in range(0, 3):\n",
    "                    res += inv_metric[i, l] * (\n",
    "                        Derivative(metric[l, j], coords[k]) +\n",
    "                        Derivative(metric[l, k], coords[j]) -\n",
    "                        Derivative(metric[j, k], coords[l]))\n",
    "                row.append(res / 2)\n",
    "            rows.append(row)\n",
    "        out.append(Matrix(rows).applyfunc(simplify))\n",
    "    return out\n",
    "\n",
    "def compute_ricci(christoffel):\n",
    "    if len(christoffel) != 3 or christoffel[0].shape != (3, 3):\n",
    "        raise Exception(\"Invalid dimensions\")\n",
    "    rows = []\n",
    "    for i in range(0, 3):\n",
    "        row = []\n",
    "        for j in range(0, 3):\n",
    "            res = 0.0\n",
    "            for k in range(0, 3):\n",
    "                res += Derivative(christoffel[k][i, j], coords[k])\n",
    "                res -= Derivative(christoffel[k][k, j], coords[i])\n",
    "                for l in range(0, 3):\n",
    "                    res += christoffel[k][i, j] * christoffel[l][k, l]\n",
    "                    res -= christoffel[k][i, l] * christoffel[l][j, k]\n",
    "            row.append(res)\n",
    "        rows.append(row)\n",
    "    return Matrix(rows).applyfunc(simplify)\n",
    "\n",
    "def compute_trace(matrix_lo, inv_metric):\n",
    "    return simplify(matrix_lo[0, 0] * inv_metric[0, 0] +\n",
    "                    matrix_lo[1, 1] * inv_metric[1, 1] +\n",
    "                    matrix_lo[2, 2] * inv_metric[2, 2])\n",
    "\n",
    "# Compute covariant derivative of rank-0 tensor\n",
    "def compute_diff_scalar(s, christoffel):\n",
    "    if len(christoffel) != 3:\n",
    "        raise Exception('Invalid dimensions')\n",
    "\n",
    "    return Matrix([ diff(s, x) for x in coords ]).applyfunc(simplify)\n",
    "\n",
    "# Compute covariant derivative of rank-1 covariant tensor\n",
    "def compute_diff_vec_lo(t, christoffel):\n",
    "    if len(t) != 3 or len(christoffel) != 3:\n",
    "        raise Exception('Invalid dimensions')\n",
    "\n",
    "    rows = []\n",
    "    for i in range(0, 3):\n",
    "        row = []\n",
    "        for j in range(0, 3):\n",
    "            res = diff(t[i], coords[j])\n",
    "            for k in range(0, 3):\n",
    "                res -= christoffel[k][i, j] * t[k]\n",
    "            row.append(res)\n",
    "        rows.append(row)\n",
    "    return Matrix(rows).applyfunc(simplify)\n",
    "\n",
    "# Compute covariant derivative of rank-2 covariant tensor\n",
    "def compute_diff_matrix_lo(m, christoffel):\n",
    "    if m.shape != (3, 3) or len(christoffel) != 3:\n",
    "        raise Exception('Invalid dimensions')\n",
    "\n",
    "    out = []\n",
    "    for i in range(0, 3):\n",
    "        rows = []\n",
    "        for j in range(0, 3):\n",
    "            row = []\n",
    "            for k in range(0, 3):\n",
    "                res = diff(m[j, k], coords[i])\n",
    "                for l in range(0, 3):\n",
    "                    res -= christoffel[l][i, j] * m[l, k]\n",
    "                    res -= christoffel[l][i, k] * m[j, l]\n",
    "                row.append(res)\n",
    "            rows.append(row)\n",
    "        out.append(Matrix(rows).applyfunc(simplify))\n",
    "    return out\n",
    "\n",
    "def compute_laplacian(scalar, metric):\n",
    "    christoffel = compute_christoffel(metric)\n",
    "    vec_lo = compute_diff_scalar(scalar, christoffel)\n",
    "    twoform = compute_diff_vec_lo(vec_lo, christoffel)\n",
    "    return compute_trace(twoform, metric.inv())"
   ]
  },
  {
   "cell_type": "markdown",
   "metadata": {},
   "source": [
    "#### Checking Schwartzschild metric"
   ]
  },
  {
   "cell_type": "code",
   "execution_count": 8,
   "metadata": {},
   "outputs": [
    {
     "data": {
      "image/png": "[encoded data removed]",
      "text/latex": [
       "$\\displaystyle \\sqrt{- \\frac{2 M}{r} + 1}$"
      ],
      "text/plain": [
       "    ___________\n",
       "   ╱   2⋅M     \n",
       "  ╱  - ─── + 1 \n",
       "╲╱      r      "
      ]
     },
     "execution_count": 8,
     "metadata": {},
     "output_type": "execute_result"
    }
   ],
   "source": [
    "sch_alpha = sqrt(1 - 2 * M / r)\n",
    "sch_alpha"
   ]
  },
  {
   "cell_type": "code",
   "execution_count": 9,
   "metadata": {},
   "outputs": [
    {
     "data": {
      "image/png": "[encoded data removed]",
      "text/latex": [
       "$\\displaystyle \\left[\\begin{matrix}\\frac{1}{- \\frac{2 M}{r} + 1} & 0 & 0\\\\0 & r^{2} & 0\\\\0 & 0 & r^{2} \\sin^{2}{\\left(\\theta \\right)}\\end{matrix}\\right]$"
      ],
      "text/plain": [
       "⎡    1                         ⎤\n",
       "⎢─────────  0          0       ⎥\n",
       "⎢  2⋅M                         ⎥\n",
       "⎢- ─── + 1                     ⎥\n",
       "⎢   r                          ⎥\n",
       "⎢                              ⎥\n",
       "⎢            2                 ⎥\n",
       "⎢    0      r          0       ⎥\n",
       "⎢                              ⎥\n",
       "⎢                2    2        ⎥\n",
       "⎣    0      0   r ⋅sin (\\theta)⎦"
      ]
     },
     "execution_count": 9,
     "metadata": {},
     "output_type": "execute_result"
    }
   ],
   "source": [
    "sch_metric = Matrix([\n",
    "    [ 1 / (1 - 2 * M / r), 0, 0 ],\n",
    "    [ 0, r ** 2, 0 ],\n",
    "    [ 0, 0, r ** 2 * sin(theta) ** 2 ]\n",
    "])\n",
    "sch_metric"
   ]
  },
  {
   "cell_type": "code",
   "execution_count": 10,
   "metadata": {},
   "outputs": [
    {
     "data": {
      "image/png": "[encoded data removed]",
      "text/latex": [
       "$\\displaystyle 0$"
      ],
      "text/plain": [
       "0"
      ]
     },
     "execution_count": 10,
     "metadata": {},
     "output_type": "execute_result"
    }
   ],
   "source": [
    "compute_laplacian(sch_alpha, sch_metric)"
   ]
  },
  {
   "cell_type": "markdown",
   "metadata": {},
   "source": [
    "#### Checking Isotropic metric"
   ]
  },
  {
   "cell_type": "code",
   "execution_count": 11,
   "metadata": {},
   "outputs": [
    {
     "data": {
      "image/png": "[encoded data removed]",
      "text/latex": [
       "$\\displaystyle \\frac{- \\frac{M}{2 r} + 1}{\\frac{M}{2 r} + 1}$"
      ],
      "text/plain": [
       "   M     \n",
       "- ─── + 1\n",
       "  2⋅r    \n",
       "─────────\n",
       "  M      \n",
       " ─── + 1 \n",
       " 2⋅r     "
      ]
     },
     "execution_count": 11,
     "metadata": {},
     "output_type": "execute_result"
    }
   ],
   "source": [
    "iso_alpha = (1 - M / (2 * r)) / (1 + M / (2 * r))\n",
    "iso_alpha"
   ]
  },
  {
   "cell_type": "code",
   "execution_count": 12,
   "metadata": {},
   "outputs": [
    {
     "data": {
      "image/png": "[encoded data removed]",
      "text/latex": [
       "$\\displaystyle \\left[\\begin{matrix}\\left(\\frac{M}{2 r} + 1\\right)^{4} & 0 & 0\\\\0 & r^{2} \\left(\\frac{M}{2 r} + 1\\right)^{4} & 0\\\\0 & 0 & r^{2} \\left(\\frac{M}{2 r} + 1\\right)^{4} \\sin^{2}{\\left(\\theta \\right)}\\end{matrix}\\right]$"
      ],
      "text/plain": [
       "⎡         4                                           ⎤\n",
       "⎢⎛ M     ⎞                                            ⎥\n",
       "⎢⎜─── + 1⎟         0                    0             ⎥\n",
       "⎢⎝2⋅r    ⎠                                            ⎥\n",
       "⎢                                                     ⎥\n",
       "⎢                        4                            ⎥\n",
       "⎢             2 ⎛ M     ⎞                             ⎥\n",
       "⎢    0       r ⋅⎜─── + 1⎟               0             ⎥\n",
       "⎢               ⎝2⋅r    ⎠                             ⎥\n",
       "⎢                                                     ⎥\n",
       "⎢                                       4             ⎥\n",
       "⎢                            2 ⎛ M     ⎞     2        ⎥\n",
       "⎢    0             0        r ⋅⎜─── + 1⎟ ⋅sin (\\theta)⎥\n",
       "⎣                              ⎝2⋅r    ⎠              ⎦"
      ]
     },
     "execution_count": 12,
     "metadata": {},
     "output_type": "execute_result"
    }
   ],
   "source": [
    "iso_metric = Matrix([\n",
    "    [ 1, 0, 0 ],\n",
    "    [ 0, r ** 2, 0 ],\n",
    "    [ 0, 0, r ** 2 * sin(theta) ** 2 ]\n",
    "]) * (1 + M / (2 * r)) ** 4\n",
    "iso_metric"
   ]
  },
  {
   "cell_type": "code",
   "execution_count": 13,
   "metadata": {},
   "outputs": [
    {
     "data": {
      "image/png": "[encoded data removed]",
      "text/latex": [
       "$\\displaystyle 0$"
      ],
      "text/plain": [
       "0"
      ]
     },
     "execution_count": 13,
     "metadata": {},
     "output_type": "execute_result"
    }
   ],
   "source": [
    "iso_lap = compute_laplacian(iso_alpha, iso_metric)\n",
    "iso_lap"
   ]
  },
  {
   "cell_type": "markdown",
   "metadata": {},
   "source": [
    "#### Kerr-Schild"
   ]
  },
  {
   "cell_type": "code",
   "execution_count": 16,
   "metadata": {},
   "outputs": [
    {
     "data": {
      "image/png": "[encoded data removed]",
      "text/latex": [
       "$\\displaystyle \\frac{1}{\\sqrt{\\frac{2 M}{r} + 1}}$"
      ],
      "text/plain": [
       "      1      \n",
       "─────────────\n",
       "    _________\n",
       "   ╱ 2⋅M     \n",
       "  ╱  ─── + 1 \n",
       "╲╱    r      "
      ]
     },
     "execution_count": 16,
     "metadata": {},
     "output_type": "execute_result"
    }
   ],
   "source": [
    "ks_alpha = 1 / sqrt(1 + 2 * M / r)\n",
    "ks_alpha"
   ]
  },
  {
   "cell_type": "code",
   "execution_count": 18,
   "metadata": {},
   "outputs": [
    {
     "data": {
      "image/png": "[encoded data removed]",
      "text/latex": [
       "$\\displaystyle \\left[\\begin{matrix}\\frac{2 M}{r} + 1 & 0 & 0\\\\0 & r^{2} & 0\\\\0 & 0 & r^{2} \\sin^{2}{\\left(\\theta \\right)}\\end{matrix}\\right]$"
      ],
      "text/plain": [
       "⎡2⋅M                         ⎤\n",
       "⎢─── + 1  0          0       ⎥\n",
       "⎢ r                          ⎥\n",
       "⎢                            ⎥\n",
       "⎢          2                 ⎥\n",
       "⎢   0     r          0       ⎥\n",
       "⎢                            ⎥\n",
       "⎢              2    2        ⎥\n",
       "⎣   0     0   r ⋅sin (\\theta)⎦"
      ]
     },
     "execution_count": 18,
     "metadata": {},
     "output_type": "execute_result"
    }
   ],
   "source": [
    "ks_metric = Matrix([\n",
    "    [ 1 + (2 * M) / r, 0, 0],\n",
    "    [ 0, r ** 2, 0 ],\n",
    "    [ 0, 0, r ** 2 * sin(theta) ** 2 ],\n",
    "])\n",
    "ks_metric"
   ]
  },
  {
   "cell_type": "code",
   "execution_count": 19,
   "metadata": {},
   "outputs": [
    {
     "data": {
      "image/png": "[encoded data removed]",
      "text/latex": [
       "$\\displaystyle \\frac{4 M^{2}}{r \\sqrt{\\frac{2 M + r}{r}} \\left(8 M^{3} + 12 M^{2} r + 6 M r^{2} + r^{3}\\right)}$"
      ],
      "text/plain": [
       "                        2                     \n",
       "                     4⋅M                      \n",
       "──────────────────────────────────────────────\n",
       "      _________                               \n",
       "     ╱ 2⋅M + r  ⎛   3       2          2    3⎞\n",
       "r⋅  ╱  ─────── ⋅⎝8⋅M  + 12⋅M ⋅r + 6⋅M⋅r  + r ⎠\n",
       "  ╲╱      r                                   "
      ]
     },
     "execution_count": 19,
     "metadata": {},
     "output_type": "execute_result"
    }
   ],
   "source": [
    "ks_lap = compute_laplacian(ks_alpha, ks_metric)\n",
    "ks_lap"
   ]
  },
  {
   "cell_type": "code",
   "execution_count": 26,
   "metadata": {},
   "outputs": [
    {
     "data": {
      "image/png": "[encoded data removed]",
      "text/latex": [
       "$\\displaystyle \\left[\\begin{matrix}\\frac{2 M \\left(- \\frac{M}{r} - 1\\right)}{r^{2} \\sqrt{\\frac{2 M}{r} + 1}} & 0 & 0\\\\0 & \\frac{2 M}{\\sqrt{\\frac{2 M}{r} + 1}} & 0\\\\0 & 0 & \\frac{2 M \\sin^{2}{\\left(\\theta \\right)}}{\\sqrt{\\frac{2 M}{r} + 1}}\\end{matrix}\\right]$"
      ],
      "text/plain": [
       "⎡     ⎛  M    ⎞                                   ⎤\n",
       "⎢ 2⋅M⋅⎜- ─ - 1⎟                                   ⎥\n",
       "⎢     ⎝  r    ⎠                                   ⎥\n",
       "⎢────────────────        0               0        ⎥\n",
       "⎢       _________                                 ⎥\n",
       "⎢ 2    ╱ 2⋅M                                      ⎥\n",
       "⎢r ⋅  ╱  ─── + 1                                  ⎥\n",
       "⎢   ╲╱    r                                       ⎥\n",
       "⎢                                                 ⎥\n",
       "⎢                       2⋅M                       ⎥\n",
       "⎢       0          ─────────────         0        ⎥\n",
       "⎢                      _________                  ⎥\n",
       "⎢                     ╱ 2⋅M                       ⎥\n",
       "⎢                    ╱  ─── + 1                   ⎥\n",
       "⎢                  ╲╱    r                        ⎥\n",
       "⎢                                                 ⎥\n",
       "⎢                                        2        ⎥\n",
       "⎢                                 2⋅M⋅sin (\\theta)⎥\n",
       "⎢       0                0        ────────────────⎥\n",
       "⎢                                      _________  ⎥\n",
       "⎢                                     ╱ 2⋅M       ⎥\n",
       "⎢                                    ╱  ─── + 1   ⎥\n",
       "⎣                                  ╲╱    r        ⎦"
      ]
     },
     "execution_count": 26,
     "metadata": {},
     "output_type": "execute_result"
    }
   ],
   "source": [
    "K_lo = ((2 * M * ks_alpha) / (r ** 2)) * Matrix([\n",
    "    [ 1 - (2 + M / r), 0, 0 ],\n",
    "    [ 0, r ** 2, 0 ],\n",
    "    [ 0, 0, r ** 2 * sin(theta) ** 2 ],\n",
    "])\n",
    "K_lo"
   ]
  },
  {
   "cell_type": "code",
   "execution_count": 29,
   "metadata": {},
   "outputs": [
    {
     "data": {
      "image/png": "[encoded data removed]",
      "text/latex": [
       "$\\displaystyle \\frac{4 M^{2} \\left(M + r\\right)^{2}}{r^{3} \\left(2 M + r\\right)^{3}} + \\frac{8 M^{2}}{r^{3} \\left(2 M + r\\right)}$"
      ],
      "text/plain": [
       "   2        2          2    \n",
       "4⋅M ⋅(M + r)        8⋅M     \n",
       "───────────── + ────────────\n",
       " 3          3    3          \n",
       "r ⋅(2⋅M + r)    r ⋅(2⋅M + r)"
      ]
     },
     "execution_count": 29,
     "metadata": {},
     "output_type": "execute_result"
    }
   ],
   "source": [
    "K_lo2 = Trace(K_lo * ks_metric.inv() * K_lo * ks_metric.inv()).simplify()\n",
    "K_lo2"
   ]
  },
  {
   "cell_type": "code",
   "execution_count": 30,
   "metadata": {},
   "outputs": [
    {
     "data": {
      "image/png": "[encoded data removed]",
      "text/latex": [
       "$\\displaystyle \\frac{4 M^{2} \\left(- 18 M^{3} - 29 M^{2} r - 16 M r^{2} + r^{3} \\sqrt{\\frac{2 M + r}{r}} - 3 r^{3}\\right)}{r^{3} \\left(16 M^{4} + 32 M^{3} r + 24 M^{2} r^{2} + 8 M r^{3} + r^{4}\\right)}$"
      ],
      "text/plain": [
       "     ⎛                                     _________       ⎞\n",
       "   2 ⎜      3       2           2    3    ╱ 2⋅M + r       3⎟\n",
       "4⋅M ⋅⎜- 18⋅M  - 29⋅M ⋅r - 16⋅M⋅r  + r ⋅  ╱  ───────  - 3⋅r ⎟\n",
       "     ⎝                                 ╲╱      r           ⎠\n",
       "────────────────────────────────────────────────────────────\n",
       "        3 ⎛    4       3         2  2        3    4⎞        \n",
       "       r ⋅⎝16⋅M  + 32⋅M ⋅r + 24⋅M ⋅r  + 8⋅M⋅r  + r ⎠        "
      ]
     },
     "execution_count": 30,
     "metadata": {},
     "output_type": "execute_result"
    }
   ],
   "source": [
    "(ks_lap - K_lo2).simplify()"
   ]
  },
  {
   "cell_type": "code",
   "execution_count": null,
   "metadata": {},
   "outputs": [],
   "source": []
  }
 ],
 "metadata": {
  "kernelspec": {
   "display_name": "Python 3",
   "language": "python",
   "name": "python3"
  },
  "language_info": {
   "codemirror_mode": {
    "name": "ipython",
    "version": 3
   },
   "file_extension": ".py",
   "mimetype": "text/x-python",
   "name": "python",
   "nbconvert_exporter": "python",
   "pygments_lexer": "ipython3",
   "version": "3.7.7"
  }
 },
 "nbformat": 4,
 "nbformat_minor": 4
}
