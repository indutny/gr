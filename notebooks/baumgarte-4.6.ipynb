{
 "cells": [
  {
   "cell_type": "markdown",
   "metadata": {},
   "source": [
    "# Baumgarte - Numerical Relativity\n",
    "## Problem 4.6"
   ]
  },
  {
   "cell_type": "code",
   "execution_count": 1,
   "metadata": {},
   "outputs": [],
   "source": [
    "from sympy import *\n",
    "init_printing(use_unicode=True)"
   ]
  },
  {
   "cell_type": "code",
   "execution_count": 3,
   "metadata": {},
   "outputs": [],
   "source": [
    "r, theta, phi = symbols('r, \\\\theta, \\phi')\n",
    "M, C = symbols('M, C')\n",
    "coords = [ r, theta, phi ]"
   ]
  },
  {
   "cell_type": "code",
   "execution_count": 8,
   "metadata": {},
   "outputs": [],
   "source": [
    "f0 = 1 - 2 * M / r\n",
    "f0hs = C / sqrt(f0 * r ** 4 + C ** 2)"
   ]
  },
  {
   "cell_type": "code",
   "execution_count": 9,
   "metadata": {},
   "outputs": [
    {
     "data": {
      "image/png": "[encoded data removed]",
      "text/latex": [
       "$\\displaystyle \\left[\\begin{matrix}\\frac{2 M - r}{r} & \\frac{C}{\\sqrt{C^{2} - r^{3} \\left(2 M - r\\right)}} & 0 & 0\\\\\\frac{C}{\\sqrt{C^{2} - r^{3} \\left(2 M - r\\right)}} & \\frac{r^{4}}{C^{2} - r^{3} \\left(2 M - r\\right)} & 0 & 0\\\\0 & 0 & r^{2} & 0\\\\0 & 0 & 0 & r^{2} \\sin^{2}{\\left(\\theta \\right)}\\end{matrix}\\right]$"
      ],
      "text/plain": [
       "⎡       2⋅M - r                    C                                ⎤\n",
       "⎢       ───────          ──────────────────────  0          0       ⎥\n",
       "⎢          r                ___________________                     ⎥\n",
       "⎢                          ╱  2    3                                ⎥\n",
       "⎢                        ╲╱  C  - r ⋅(2⋅M - r)                      ⎥\n",
       "⎢                                                                   ⎥\n",
       "⎢                                   4                               ⎥\n",
       "⎢          C                       r                                ⎥\n",
       "⎢──────────────────────    ─────────────────     0          0       ⎥\n",
       "⎢   ___________________     2    3                                  ⎥\n",
       "⎢  ╱  2    3               C  - r ⋅(2⋅M - r)                        ⎥\n",
       "⎢╲╱  C  - r ⋅(2⋅M - r)                                              ⎥\n",
       "⎢                                                                   ⎥\n",
       "⎢                                                 2                 ⎥\n",
       "⎢          0                       0             r          0       ⎥\n",
       "⎢                                                                   ⎥\n",
       "⎢                                                     2    2        ⎥\n",
       "⎣          0                       0             0   r ⋅sin (\\theta)⎦"
      ]
     },
     "execution_count": 9,
     "metadata": {},
     "output_type": "execute_result"
    }
   ],
   "source": [
    "metric = Matrix([\n",
    "    [ -f0, f0hs, 0, 0 ],\n",
    "    [ f0hs, 1 / f0 * (1 - f0hs ** 2), 0, 0 ],\n",
    "    [ 0, 0, r ** 2, 0 ],\n",
    "    [ 0, 0, 0, r ** 2 * sin(theta) ** 2 ],\n",
    "]).applyfunc(simplify)\n",
    "metric"
   ]
  },
  {
   "cell_type": "code",
   "execution_count": 28,
   "metadata": {},
   "outputs": [],
   "source": [
    "def compute_christoffel(metric):\n",
    "    if metric.shape != (3, 3):\n",
    "        raise Exception(\"Invalid dimensions\")\n",
    "\n",
    "    inv_metric = metric.inv()\n",
    "    \n",
    "    out = []\n",
    "    for i in range(0, 3):\n",
    "        rows = []\n",
    "        for j in range(0, 3):\n",
    "            row = []\n",
    "            for k in range(0, 3):\n",
    "                res = 0.0\n",
    "                for l in range(0, 3):\n",
    "                    res += inv_metric[i, l] * (\n",
    "                        Derivative(metric[l, j], coords[k]) +\n",
    "                        Derivative(metric[l, k], coords[j]) -\n",
    "                        Derivative(metric[j, k], coords[l]))\n",
    "                row.append(res / 2)\n",
    "            rows.append(row)\n",
    "        out.append(Matrix(rows).applyfunc(simplify))\n",
    "    return out\n",
    "\n",
    "def compute_ricci(christoffel):\n",
    "    if len(christoffel) != 3 or christoffel[0].shape != (3, 3):\n",
    "        raise Exception(\"Invalid dimensions\")\n",
    "    rows = []\n",
    "    for i in range(0, 3):\n",
    "        row = []\n",
    "        for j in range(0, 3):\n",
    "            res = 0.0\n",
    "            for k in range(0, 3):\n",
    "                res += Derivative(christoffel[k][i, j], coords[k])\n",
    "                res -= Derivative(christoffel[k][k, j], coords[i])\n",
    "                for l in range(0, 3):\n",
    "                    res += christoffel[k][i, j] * christoffel[l][k, l]\n",
    "                    res -= christoffel[k][i, l] * christoffel[l][j, k]\n",
    "            row.append(res)\n",
    "        rows.append(row)\n",
    "    return Matrix(rows).applyfunc(simplify)\n",
    "\n",
    "def compute_trace(matrix_lo, inv_metric):\n",
    "    return simplify(matrix_lo[0, 0] * inv_metric[0, 0] +\n",
    "                    matrix_lo[1, 1] * inv_metric[1, 1] +\n",
    "                    matrix_lo[2, 2] * inv_metric[2, 2])\n",
    "\n",
    "# Compute covariant derivative of rank-0 tensor\n",
    "def compute_diff_scalar(s, christoffel):\n",
    "    if len(christoffel) != 3:\n",
    "        raise Exception('Invalid dimensions')\n",
    "\n",
    "    return Matrix([ diff(s, x) for x in coords ]).applyfunc(simplify)\n",
    "\n",
    "# Compute covariant derivative of rank-1 covariant tensor\n",
    "def compute_diff_vec_lo(t, christoffel):\n",
    "    if len(t) != 3 or len(christoffel) != 3:\n",
    "        raise Exception('Invalid dimensions')\n",
    "\n",
    "    rows = []\n",
    "    for i in range(0, 3):\n",
    "        row = []\n",
    "        for j in range(0, 3):\n",
    "            res = diff(t[i], coords[j])\n",
    "            for k in range(0, 3):\n",
    "                res -= christoffel[k][i, j] * t[k]\n",
    "            row.append(res)\n",
    "        rows.append(row)\n",
    "    return Matrix(rows).applyfunc(simplify)\n",
    "\n",
    "# Compute covariant derivative of rank-2 covariant tensor\n",
    "def compute_diff_matrix_lo(m, christoffel):\n",
    "    if m.shape != (3, 3) or len(christoffel) != 3:\n",
    "        raise Exception('Invalid dimensions')\n",
    "\n",
    "    out = []\n",
    "    for i in range(0, 3):\n",
    "        rows = []\n",
    "        for j in range(0, 3):\n",
    "            row = []\n",
    "            for k in range(0, 3):\n",
    "                res = diff(m[j, k], coords[i])\n",
    "                for l in range(0, 3):\n",
    "                    res -= christoffel[l][i, j] * m[l, k]\n",
    "                    res -= christoffel[l][i, k] * m[j, l]\n",
    "                row.append(res)\n",
    "            rows.append(row)\n",
    "        out.append(Matrix(rows).applyfunc(simplify))\n",
    "    return out\n",
    "\n",
    "def compute_laplacian(scalar, metric):\n",
    "    christoffel = compute_christoffel(metric)\n",
    "    vec_lo = compute_diff_scalar(scalar, christoffel)\n",
    "    twoform = compute_diff_vec_lo(vec_lo, christoffel)\n",
    "    return compute_trace(twoform, metric.inv())\n",
    "\n",
    "# Compute lapse, shift, and K\n",
    "def compute_factors(metric_full):\n",
    "    metric_spat = metric_full[1:, 1:]\n",
    "    inv_metric_full = metric_full.inv()\n",
    "    \n",
    "    alpha = (1 / sqrt(-inv_metric_full[0, 0].simplify())).simplify()\n",
    "    beta_hi = (inv_metric_full[0, 1:] * (alpha ** 2)).applyfunc(simplify)\n",
    "    beta_lo = metric_full[0, 1:]\n",
    "    \n",
    "    inv_metric_spat = inv_metric_full[1:, 1:] + (1 / alpha ** 2) * Matrix([\n",
    "        [ beta_hi[i] * beta_hi[j] for i in range(0, 3) ]\n",
    "        for j in range(0, 3)\n",
    "    ])\n",
    "    christoffel = compute_christoffel(metric_spat)\n",
    "    \n",
    "    diff_beta_lo = compute_diff_vec_lo(beta_lo, christoffel)\n",
    "    K_lo = Matrix([\n",
    "        [ diff_beta_lo[i, j] + diff_beta_lo[j, i] for j in range(0, 3) ]\n",
    "        for i in range(0, 3)\n",
    "    ])\n",
    "    K_lo /= (2 * alpha)\n",
    "    K_lo = K_lo.applyfunc(simplify)\n",
    "    \n",
    "    K_hi = inv_metric_spat * K_lo * inv_metric_spat.T\n",
    "    \n",
    "    KK = Trace(K_lo * K_hi)\n",
    "    K = Trace(K_lo * inv_metric_spat).simplify()\n",
    "    \n",
    "    ricci = compute_ricci(christoffel)\n",
    "    R = Trace(ricci * inv_metric_spat).simplify()\n",
    "\n",
    "    return {\n",
    "        'alpha': alpha,\n",
    "        'beta_hi': beta_hi,\n",
    "        'beta_lo': beta_lo,\n",
    "        'K_lo': K_lo,\n",
    "        'K_hi': K_hi,\n",
    "        'KK': KK.simplify(),\n",
    "        'K': K,\n",
    "        \n",
    "        'christoffel': christoffel,\n",
    "        \n",
    "        'metric_spat': metric_spat,\n",
    "        'inv_metric_spat': inv_metric_spat.applyfunc(simplify),\n",
    "        \n",
    "        'ricci': ricci,\n",
    "        'R': R,\n",
    "    }\n",
    "\n",
    "def compute_ham_constraint(factors):\n",
    "    return factors['R'] + factors['K'] ** 2 - factors['KK']\n",
    "\n",
    "def compute_mom_constraint(factors):\n",
    "    dK_lo = compute_diff_matrix_lo(factors['K_lo'], factors['christoffel'])\n",
    "    # Contract\n",
    "    t = []\n",
    "    for i in range(0, 3):\n",
    "        res = 0\n",
    "        for j in range(0, 3):\n",
    "            for k in range(0, 3):\n",
    "                res += factors['inv_metric_spat'][j, k] * dK_lo[j][i, k]\n",
    "        t.append(res.simplify() - diff(factors['K'], coords[i]))\n",
    "    return t"
   ]
  },
  {
   "cell_type": "code",
   "execution_count": 11,
   "metadata": {},
   "outputs": [],
   "source": [
    "factors = compute_factors(metric)"
   ]
  },
  {
   "cell_type": "code",
   "execution_count": 27,
   "metadata": {},
   "outputs": [
    {
     "data": {
      "image/png": "[encoded data removed]",
      "text/latex": [
       "$\\displaystyle \\left[\\begin{matrix}- \\frac{2 C \\sqrt{\\frac{r^{4}}{C^{2} - r^{3} \\left(2 M - r\\right)}} \\sqrt{C^{2} - 2 M r^{3} + r^{4}}}{r^{5}} & 0 & 0\\\\0 & \\frac{C \\sqrt{\\frac{r^{4}}{C^{2} - r^{3} \\left(2 M - r\\right)}} \\sqrt{C^{2} - r^{3} \\left(2 M - r\\right)}}{r^{5}} & 0\\\\0 & 0 & \\frac{C \\sqrt{\\frac{r^{4}}{C^{2} - r^{3} \\left(2 M - r\\right)}} \\sqrt{C^{2} - r^{3} \\left(2 M - r\\right)}}{r^{5}}\\end{matrix}\\right]$"
      ],
      "text/plain": [
       "⎡           ___________________                                               \n",
       "⎢          ╱          4            __________________                         \n",
       "⎢         ╱          r            ╱  2        3    4                          \n",
       "⎢-2⋅C⋅   ╱   ───────────────── ⋅╲╱  C  - 2⋅M⋅r  + r                           \n",
       "⎢       ╱     2    3                                                          \n",
       "⎢     ╲╱     C  - r ⋅(2⋅M - r)                                                \n",
       "⎢─────────────────────────────────────────────────────                        \n",
       "⎢                           5                                                 \n",
       "⎢                          r                                                  \n",
       "⎢                                                                             \n",
       "⎢                                                               ______________\n",
       "⎢                                                              ╱          4   \n",
       "⎢                                                             ╱          r    \n",
       "⎢                                                       C⋅   ╱   ─────────────\n",
       "⎢                                                           ╱     2    3      \n",
       "⎢                                                         ╲╱     C  - r ⋅(2⋅M \n",
       "⎢                          0                            ──────────────────────\n",
       "⎢                                                                             \n",
       "⎢                                                                             \n",
       "⎢                                                                             \n",
       "⎢                                                                             \n",
       "⎢                                                                             \n",
       "⎢                                                                             \n",
       "⎢                                                                             \n",
       "⎢                                                                             \n",
       "⎢                                                                             \n",
       "⎢                          0                                                  \n",
       "⎢                                                                             \n",
       "⎣                                                                             \n",
       "\n",
       "                                                                              \n",
       "                                                                              \n",
       "                                                                              \n",
       "                                                                              \n",
       "                                                                              \n",
       "                                                                              \n",
       "  0                                                   0                       \n",
       "                                                                              \n",
       "                                                                              \n",
       "                                                                              \n",
       "_____                                                                         \n",
       "         ___________________                                                  \n",
       "        ╱  2    3                                                             \n",
       "──── ⋅╲╱  C  - r ⋅(2⋅M - r)                                                   \n",
       "                                                                              \n",
       "- r)                                                                          \n",
       "────────────────────────────                          0                       \n",
       "   5                                                                          \n",
       "  r                                                                           \n",
       "                                                                              \n",
       "                                      ___________________                     \n",
       "                                     ╱          4            _________________\n",
       "                                    ╱          r            ╱  2    3         \n",
       "                              C⋅   ╱   ───────────────── ⋅╲╱  C  - r ⋅(2⋅M - r\n",
       "                                  ╱     2    3                                \n",
       "                                ╲╱     C  - r ⋅(2⋅M - r)                      \n",
       "  0                           ────────────────────────────────────────────────\n",
       "                                                       5                      \n",
       "                                                      r                       \n",
       "\n",
       "  ⎤\n",
       "  ⎥\n",
       "  ⎥\n",
       "  ⎥\n",
       "  ⎥\n",
       "  ⎥\n",
       "  ⎥\n",
       "  ⎥\n",
       "  ⎥\n",
       "  ⎥\n",
       "  ⎥\n",
       "  ⎥\n",
       "  ⎥\n",
       "  ⎥\n",
       "  ⎥\n",
       "  ⎥\n",
       "  ⎥\n",
       "  ⎥\n",
       "  ⎥\n",
       "  ⎥\n",
       "  ⎥\n",
       "__⎥\n",
       "  ⎥\n",
       ") ⎥\n",
       "  ⎥\n",
       "  ⎥\n",
       "──⎥\n",
       "  ⎥\n",
       "  ⎦"
      ]
     },
     "execution_count": 27,
     "metadata": {},
     "output_type": "execute_result"
    }
   ],
   "source": [
    "(factors['inv_metric_spat'] * factors['K_lo']).applyfunc(simplify)"
   ]
  },
  {
   "cell_type": "code",
   "execution_count": 30,
   "metadata": {},
   "outputs": [
    {
     "data": {
      "image/png": "[encoded data removed]",
      "text/latex": [
       "$\\displaystyle 0$"
      ],
      "text/plain": [
       "0"
      ]
     },
     "execution_count": 30,
     "metadata": {},
     "output_type": "execute_result"
    }
   ],
   "source": [
    "compute_ham_constraint(factors).simplify()"
   ]
  },
  {
   "cell_type": "code",
   "execution_count": 33,
   "metadata": {},
   "outputs": [
    {
     "data": {
      "image/png": "[encoded data removed]",
      "text/latex": [
       "$\\displaystyle \\left[ 0, \\  0, \\  0\\right]$"
      ],
      "text/plain": [
       "[0, 0, 0]"
      ]
     },
     "execution_count": 33,
     "metadata": {},
     "output_type": "execute_result"
    }
   ],
   "source": [
    "[ x.simplify() for x in compute_mom_constraint(factors) ]"
   ]
  },
  {
   "cell_type": "code",
   "execution_count": null,
   "metadata": {},
   "outputs": [],
   "source": []
  }
 ],
 "metadata": {
  "kernelspec": {
   "display_name": "Python 3",
   "language": "python",
   "name": "python3"
  },
  "language_info": {
   "codemirror_mode": {
    "name": "ipython",
    "version": 3
   },
   "file_extension": ".py",
   "mimetype": "text/x-python",
   "name": "python",
   "nbconvert_exporter": "python",
   "pygments_lexer": "ipython3",
   "version": "3.7.7"
  }
 },
 "nbformat": 4,
 "nbformat_minor": 4
}
